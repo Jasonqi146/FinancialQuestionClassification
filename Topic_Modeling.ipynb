{
 "cells": [
  {
   "cell_type": "code",
   "execution_count": 1,
   "metadata": {
    "colab": {
     "base_uri": "https://localhost:8080/"
    },
    "executionInfo": {
     "elapsed": 7632,
     "status": "ok",
     "timestamp": 1605132779188,
     "user": {
      "displayName": "Jason Qi",
      "photoUrl": "",
      "userId": "14258838799704967372"
     },
     "user_tz": 300
    },
    "id": "mvZfH0i6TMEZ",
    "outputId": "1867b210-3ecd-492c-a6ec-1179a1b38ca8"
   },
   "outputs": [
    {
     "name": "stdout",
     "output_type": "stream",
     "text": [
      "Collecting jsonlines\n",
      "  Downloading https://files.pythonhosted.org/packages/4f/9a/ab96291470e305504aa4b7a2e0ec132e930da89eb3ca7a82fbe03167c131/jsonlines-1.2.0-py2.py3-none-any.whl\n",
      "Requirement already satisfied: six in /usr/local/lib/python3.6/dist-packages (from jsonlines) (1.15.0)\n",
      "Installing collected packages: jsonlines\n",
      "Successfully installed jsonlines-1.2.0\n",
      "Collecting json_lines\n",
      "  Downloading https://files.pythonhosted.org/packages/7f/0f/79c96c0d26b276c583484fe8209e5ebbb416a920309568650325f6e1de73/json_lines-0.5.0-py2.py3-none-any.whl\n",
      "Requirement already satisfied: six in /usr/local/lib/python3.6/dist-packages (from json_lines) (1.15.0)\n",
      "Installing collected packages: json-lines\n",
      "Successfully installed json-lines-0.5.0\n"
     ]
    }
   ],
   "source": [
    "import json\n",
    "!pip install jsonlines\n",
    "!pip install json_lines"
   ]
  },
  {
   "cell_type": "code",
   "execution_count": 3,
   "metadata": {
    "colab": {
     "base_uri": "https://localhost:8080/"
    },
    "executionInfo": {
     "elapsed": 23708,
     "status": "ok",
     "timestamp": 1605132812816,
     "user": {
      "displayName": "Jason Qi",
      "photoUrl": "",
      "userId": "14258838799704967372"
     },
     "user_tz": 300
    },
    "id": "megWpXVEKc1K",
    "outputId": "d5fa26e5-6fd4-4faa-b379-0896be21383a"
   },
   "outputs": [
    {
     "name": "stdout",
     "output_type": "stream",
     "text": [
      "Mounted at /content/drive\n",
      "99991\n"
     ]
    }
   ],
   "source": [
    "from google.colab import drive\n",
    "drive.mount('/content/drive')\n",
    "\n",
    "import json\n",
    "f = open(\"drive/My Drive/Colab Notebooks/real_question.json\",)\n",
    "data = json.load(f)\n",
    "\n",
    "print(len(data))\n",
    "f.close()"
   ]
  },
  {
   "cell_type": "code",
   "execution_count": null,
   "metadata": {
    "id": "WK9RAw5VrjxQ"
   },
   "outputs": [],
   "source": [
    "import re\n",
    "import numpy as np\n",
    "import pandas as pd\n",
    "from pprint import pprint\n",
    "\n",
    "# Gensim\n",
    "import gensim\n",
    "import gensim.corpora as corpora\n",
    "from gensim.utils import simple_preprocess\n",
    "from gensim.models import CoherenceModel\n",
    "\n",
    "# spacy for lemmatization\n",
    "import spacy\n",
    "\n",
    "# Plotting tools\n",
    "!pip install pyLDAvis\n",
    "import pyLDAvis\n",
    "import pyLDAvis.gensim  # don't skip this\n",
    "import matplotlib.pyplot as plt\n",
    "%matplotlib inline\n",
    "\n",
    "# Enable logging for gensim - optional\n",
    "import logging\n",
    "logging.basicConfig(format='%(asctime)s : %(levelname)s : %(message)s', level=logging.ERROR)\n",
    "\n",
    "import warnings\n",
    "warnings.filterwarnings(\"ignore\",category=DeprecationWarning)"
   ]
  },
  {
   "cell_type": "code",
   "execution_count": null,
   "metadata": {
    "id": "hBuOUD5NrYpY"
   },
   "outputs": [],
   "source": [
    "# NLTK Stop words\n",
    "import nltk\n",
    "nltk.download('stopwords')\n",
    "from nltk.corpus import stopwords\n",
    "stop_words = stopwords.words('english')\n",
    "stop_words.extend(['from', 'subject', 're', 'edu', 'use'])\n",
    "stop_words.extend(['go', 'kind', 'sort', 'think','see','still','question','expect','guy','year','quarter','end','time','guess','sense','way','thank','give_us','thanks','steve','number','point','comment','business','range','thought','group','mix','basis','little_bit','company','month','thing','couple','color','term','side','update','issue','talk','follow','guidance','segment','assumption','care','level','part','line','admission','good_morning'])"
   ]
  },
  {
   "cell_type": "code",
   "execution_count": 7,
   "metadata": {
    "colab": {
     "base_uri": "https://localhost:8080/"
    },
    "executionInfo": {
     "elapsed": 615,
     "status": "ok",
     "timestamp": 1605132877949,
     "user": {
      "displayName": "Jason Qi",
      "photoUrl": "",
      "userId": "14258838799704967372"
     },
     "user_tz": 300
    },
    "id": "-p2eD1SHrBq3",
    "outputId": "1f830a2d-23cf-41a7-8e3d-775b4a01ab78"
   },
   "outputs": [
    {
     "name": "stdout",
     "output_type": "stream",
     "text": [
      "['thanks', 'very', 'much', 'operator', 'hi', 'everybody', 'thank', 'you', 'very', 'much', 'for', 'your', 'time', 'just', 'on', 'the', 'bookings', 'over', 'the', 'past', 'mean', 'this', 'is', 'like', 'very', 'short', 'term', 'focused', 'but', 'are', 'you', 'hearing', 'from', 'any', 'of', 'your', 'corporate', 'accounts', 'about', 'adjusting', 'bookings', 'or', 'whatever', 'for', 'the', 'given', 'united', 'performance', 'over', 'the', 'last', 'couple', 'of', 'weeks', 'with', 'various', 'incidences']\n"
     ]
    }
   ],
   "source": [
    "# Convert to list\n",
    "\n",
    "def sent_to_words(sentences):\n",
    "    for sentence in sentences:\n",
    "        yield(gensim.utils.simple_preprocess(str(sentence), deacc=True))  # deacc=True removes punctuations\n",
    "\n",
    "data_words = list(sent_to_words(data[:1000]))\n",
    "\n",
    "print(data_words[0])"
   ]
  },
  {
   "cell_type": "code",
   "execution_count": 8,
   "metadata": {
    "colab": {
     "base_uri": "https://localhost:8080/"
    },
    "executionInfo": {
     "elapsed": 1512,
     "status": "ok",
     "timestamp": 1605132882080,
     "user": {
      "displayName": "Jason Qi",
      "photoUrl": "",
      "userId": "14258838799704967372"
     },
     "user_tz": 300
    },
    "id": "AYyQW4ZTs0rC",
    "outputId": "50b70490-5f25-4952-93a6-cbd630b70cf9"
   },
   "outputs": [
    {
     "name": "stderr",
     "output_type": "stream",
     "text": [
      "/usr/local/lib/python3.6/dist-packages/gensim/models/phrases.py:598: UserWarning: For a faster implementation, use the gensim.models.phrases.Phraser class\n",
      "  warnings.warn(\"For a faster implementation, use the gensim.models.phrases.Phraser class\")\n"
     ]
    },
    {
     "name": "stdout",
     "output_type": "stream",
     "text": [
      "['thanks', 'very', 'much', 'operator', 'hi_everybody', 'thank', 'you', 'very', 'much', 'for', 'your', 'time', 'just', 'on', 'the', 'bookings', 'over', 'the', 'past', 'mean', 'this', 'is', 'like', 'very', 'short_term', 'focused', 'but', 'are', 'you', 'hearing', 'from', 'any', 'of', 'your', 'corporate', 'accounts', 'about', 'adjusting', 'bookings', 'or', 'whatever', 'for', 'the', 'given', 'united', 'performance', 'over', 'the', 'last', 'couple', 'of', 'weeks', 'with', 'various', 'incidences']\n"
     ]
    }
   ],
   "source": [
    "# Build the bigram and trigram models\n",
    "bigram = gensim.models.Phrases(data_words, min_count=5, threshold=100) # higher threshold fewer phrases.\n",
    "trigram = gensim.models.Phrases(bigram[data_words], threshold=100)  \n",
    "\n",
    "# Faster way to get a sentence clubbed as a trigram/bigram\n",
    "bigram_mod = gensim.models.phrases.Phraser(bigram)\n",
    "trigram_mod = gensim.models.phrases.Phraser(trigram)\n",
    "\n",
    "# See trigram example\n",
    "print(trigram_mod[bigram_mod[data_words[0]]])"
   ]
  },
  {
   "cell_type": "code",
   "execution_count": 9,
   "metadata": {
    "executionInfo": {
     "elapsed": 401,
     "status": "ok",
     "timestamp": 1605132883999,
     "user": {
      "displayName": "Jason Qi",
      "photoUrl": "",
      "userId": "14258838799704967372"
     },
     "user_tz": 300
    },
    "id": "Q_WxdeT6s4qN"
   },
   "outputs": [],
   "source": [
    "# Define functions for stopwords, bigrams, trigrams and lemmatization\n",
    "def remove_stopwords(texts):\n",
    "    #return [[word for word in simple_preprocess(str(doc)) if word not in stop_words] for doc in texts]\n",
    "    result = []\n",
    "    for doc in texts:\n",
    "      new_doc = []\n",
    "      for word in doc:\n",
    "        if word not in stop_words:\n",
    "          new_doc.append(word)\n",
    "      result.append(new_doc)\n",
    "    return result\n",
    "\n",
    "def make_bigrams(texts):\n",
    "    return [bigram_mod[doc] for doc in texts]\n",
    "\n",
    "def make_trigrams(texts):\n",
    "    return [trigram_mod[bigram_mod[doc]] for doc in texts]\n",
    "\n",
    "#allowed_postags=['NOUN', 'ADJ', 'VERB', 'ADV']\n",
    "def lemmatization(texts, allowed_postags=['NOUN', 'ADJ', 'ADV']):\n",
    "    \"\"\"https://spacy.io/api/annotation\"\"\"\n",
    "    texts_out = []\n",
    "    for sent in texts:\n",
    "        doc = nlp(\" \".join(sent)) \n",
    "        texts_out.append([token.lemma_ for token in doc if token.pos_ in allowed_postags])\n",
    "    return texts_out"
   ]
  },
  {
   "cell_type": "code",
   "execution_count": 10,
   "metadata": {
    "colab": {
     "base_uri": "https://localhost:8080/"
    },
    "executionInfo": {
     "elapsed": 5151,
     "status": "ok",
     "timestamp": 1605132892017,
     "user": {
      "displayName": "Jason Qi",
      "photoUrl": "",
      "userId": "14258838799704967372"
     },
     "user_tz": 300
    },
    "id": "XVFx_89XtYil",
    "outputId": "ecc0c55e-f6af-4170-a59a-09aeaa52c2c6"
   },
   "outputs": [
    {
     "name": "stdout",
     "output_type": "stream",
     "text": [
      "['operator', 'hi_everybody', 'booking', 'account', 'booking', 'united', 'performance', 'week', 'incidence']\n"
     ]
    }
   ],
   "source": [
    "# Remove Stop Words\n",
    "data_words_nostops = remove_stopwords(data_words)\n",
    "\n",
    "# Form Bigrams\n",
    "data_words_bigrams = make_bigrams(data_words_nostops)\n",
    "\n",
    "# Initialize spacy 'en' model, keeping only tagger component (for efficiency)\n",
    "# python3 -m spacy download en\n",
    "nlp = spacy.load('en', disable=['parser', 'ner'])\n",
    "\n",
    "# Do lemmatization keeping only noun, adj, vb, adv\n",
    "#allowed_postags=['NOUN', 'ADJ', 'VERB', 'ADV']\n",
    "data_lemmatized = lemmatization(data_words_bigrams, allowed_postags=['NOUN','PROPN'])\n",
    "\n",
    "data_lemmatized = remove_stopwords(data_lemmatized)\n",
    "print(data_lemmatized[0])"
   ]
  },
  {
   "cell_type": "code",
   "execution_count": 11,
   "metadata": {
    "colab": {
     "base_uri": "https://localhost:8080/"
    },
    "executionInfo": {
     "elapsed": 549,
     "status": "ok",
     "timestamp": 1605132892573,
     "user": {
      "displayName": "Jason Qi",
      "photoUrl": "",
      "userId": "14258838799704967372"
     },
     "user_tz": 300
    },
    "id": "R9NEYfmCtbUA",
    "outputId": "83b5b389-ec4e-4b8d-fca3-3fd1f8164b84"
   },
   "outputs": [
    {
     "name": "stdout",
     "output_type": "stream",
     "text": [
      "[[(0, 1), (1, 2), (2, 1), (3, 1), (4, 1), (5, 1), (6, 1), (7, 1)]]\n"
     ]
    }
   ],
   "source": [
    "# Create Dictionary\n",
    "id2word = corpora.Dictionary(data_lemmatized)\n",
    "\n",
    "# Create Corpus\n",
    "texts = data_lemmatized\n",
    "\n",
    "# Term Document Frequency\n",
    "corpus = [id2word.doc2bow(text) for text in texts]\n",
    "\n",
    "# View\n",
    "print(corpus[:1])"
   ]
  },
  {
   "cell_type": "code",
   "execution_count": 12,
   "metadata": {
    "executionInfo": {
     "elapsed": 2939,
     "status": "ok",
     "timestamp": 1605132898031,
     "user": {
      "displayName": "Jason Qi",
      "photoUrl": "",
      "userId": "14258838799704967372"
     },
     "user_tz": 300
    },
    "id": "Q0sEMHS0tjIY"
   },
   "outputs": [],
   "source": [
    "# Build LDA model\n",
    "lda_model = gensim.models.ldamodel.LdaModel(corpus=corpus,\n",
    "                                           id2word=id2word,\n",
    "                                           num_topics=20, \n",
    "                                           random_state=100,\n",
    "                                           update_every=1,\n",
    "                                           chunksize=100,\n",
    "                                           passes=10,\n",
    "                                           alpha='auto',\n",
    "                                           per_word_topics=True)"
   ]
  },
  {
   "cell_type": "code",
   "execution_count": null,
   "metadata": {
    "id": "-bUsXEnJtuam"
   },
   "outputs": [],
   "source": [
    "# Print the Keyword in the 10 topics\n",
    "pprint(lda_model.print_topics())\n",
    "doc_lda = lda_model[corpus]"
   ]
  },
  {
   "cell_type": "code",
   "execution_count": 13,
   "metadata": {
    "colab": {
     "base_uri": "https://localhost:8080/",
     "height": 860
    },
    "executionInfo": {
     "elapsed": 5869,
     "status": "ok",
     "timestamp": 1605132906671,
     "user": {
      "displayName": "Jason Qi",
      "photoUrl": "",
      "userId": "14258838799704967372"
     },
     "user_tz": 300
    },
    "id": "1sSuCmKXtw8n",
    "outputId": "51e73eb6-81ad-42d7-e3fb-7777244018b1"
   },
   "outputs": [
    {
     "data": {
      "text/html": [
       "\n",
       "<link rel=\"stylesheet\" type=\"text/css\" href=\"https://cdn.rawgit.com/bmabey/pyLDAvis/files/ldavis.v1.0.0.css\">\n",
       "\n",
       "\n",
       "<div id=\"ldavis_el561396425321270327546208181\"></div>\n",
       "<script type=\"text/javascript\">\n",
       "\n",
       "var ldavis_el561396425321270327546208181_data = {\"mdsDat\": {\"x\": [0.08331358262949486, -0.07461108932547111, -0.2986777965203772, -0.12378875776234403, 0.12066005522412221, -0.02806818628101304, -0.1349433481770519, 0.044182379344808086, -0.04093294795666989, 0.09555802154103837, 0.09402815434038155, 0.07526642904872895, 0.08202027418759067, 0.02380345249297166, -0.04580619892881605, 0.0316092843470039, 0.06187903838398774, -0.01897440087798628, -0.005737024140917092, 0.05921907843051796], \"y\": [-0.1975992099100675, 0.17176911668979927, -0.15032987394995204, 0.2004725293303155, 0.02165951869176572, -0.025676116974580113, -0.07774877185635279, -0.10024162161751213, 0.05043902252886758, 0.00883254770214764, 0.037307698786007704, 0.05822459436173631, 0.014504995893840453, 6.719540344863437e-05, 0.10407606700724452, -0.13976363976798928, -0.007944203381308702, 0.03319945785948908, -0.03567585272117777, 0.03442654592427869], \"topics\": [1, 2, 3, 4, 5, 6, 7, 8, 9, 10, 11, 12, 13, 14, 15, 16, 17, 18, 19, 20], \"cluster\": [1, 1, 1, 1, 1, 1, 1, 1, 1, 1, 1, 1, 1, 1, 1, 1, 1, 1, 1, 1], \"Freq\": [8.053662732994875, 7.739448290080872, 7.266467389081509, 7.135270622854942, 6.546819464652111, 5.4886283616224185, 5.440268371500729, 4.847583920121071, 4.750198053576002, 4.668244687034041, 4.578208453710934, 4.30700011463688, 3.9697759154283676, 3.924235378256824, 3.8868495766143103, 3.719830555326543, 3.705875218413198, 3.389904086994713, 3.3404548743139557, 3.2412739327857034]}, \"tinfo\": {\"Term\": [\"rate\", \"growth\", \"margin\", \"market\", \"pressure\", \"change\", \"revenue\", \"pricing\", \"volume\", \"capital\", \"capex\", \"increase\", \"length\", \"improvement\", \"sale\", \"expense\", \"benefit\", \"facility\", \"premium\", \"payer\", \"ebitda\", \"opportunity\", \"reserve\", \"impact\", \"expectation\", \"mean\", \"hospital\", \"perspective\", \"outlook\", \"cost\", \"increase\", \"payer\", \"perspective\", \"utilization\", \"competitor\", \"equipment\", \"move\", \"concern\", \"condition\", \"help\", \"yesterday\", \"confidence\", \"physician\", \"oil\", \"folk\", \"system\", \"space\", \"place\", \"approach\", \"gas\", \"allocation\", \"idea\", \"movement\", \"addition\", \"canada\", \"announcement\", \"market\", \"energy\", \"normal_seasonality\", \"request\", \"lot\", \"type\", \"matt\", \"plan\", \"margin\", \"improvement\", \"facility\", \"competition\", \"asset\", \"cash\", \"difference\", \"shift\", \"drag\", \"make_sure\", \"region\", \"ramp\", \"treatment\", \"great\", \"integration\", \"puerto_rico\", \"ability\", \"addiction\", \"new\", \"implication\", \"domestic_package\", \"america\", \"shareholder\", \"hearing\", \"delivery\", \"opening\", \"york\", \"client\", \"five_year\", \"respect\", \"want\", \"sale\", \"strategy\", \"value\", \"ebitda\", \"health\", \"target\", \"rate\", \"claim\", \"state\", \"us\", \"acuity\", \"process\", \"hurricane\", \"benefit_ratio\", \"discount\", \"run\", \"pro_forma\", \"share_repurchase\", \"first\", \"ask\", \"de\", \"bit\", \"gain\", \"appreciate\", \"driving\", \"branch\", \"frequency\", \"uri\", \"well\", \"funding\", \"season\", \"retention\", \"interest\", \"say\", \"tim\", \"industry\", \"disability\", \"impact\", \"trend\", \"gear\", \"share\", \"matt\", \"contract\", \"growth\", \"ratio\", \"factor\", \"amount\", \"free_cash\", \"headwind\", \"extent\", \"store_revenue\", \"momentum\", \"exchange\", \"flow\", \"order\", \"half\", \"currency\", \"table\", \"conversation\", \"slowdown\", \"pick\", \"street\", \"overhang\", \"apologize\", \"future\", \"ex\", \"attrition\", \"driver\", \"algorithm\", \"bogey\", \"teen\", \"walk\", \"dynamic\", \"target\", \"ebitda\", \"volume\", \"impact\", \"investigation\", \"psych\", \"type\", \"commentary\", \"today\", \"look\", \"timing\", \"change\", \"life\", \"tax\", \"return\", \"discussion\", \"stock\", \"settlement\", \"reason\", \"dollar\", \"detail\", \"piece\", \"past\", \"rating\", \"possibility\", \"flexibility\", \"love\", \"agency\", \"trajectory\", \"compare\", \"offset\", \"structure\", \"credit\", \"five_years\", \"aca\", \"party\", \"program\", \"bottom\", \"earning\", \"lot\", \"view\", \"target\", \"capital\", \"investment\", \"buyback\", \"one\", \"debt\", \"second_half\", \"rbc\", \"portfolio\", \"block\", \"capital_deployment\", \"income\", \"loss\", \"sector\", \"metric\", \"dividend\", \"per_adjusted\", \"prepared_remarks\", \"consideration\", \"reform\", \"observation\", \"adjustment\", \"date\", \"sg\", \"material\", \"scale\", \"direction\", \"david\", \"front\", \"injection\", \"priority\", \"interest\", \"pricing\", \"environment\", \"core\", \"price\", \"thinking\", \"activity\", \"outpatient\", \"fee\", \"patient\", \"stat\", \"flu\", \"get\", \"answer\", \"profile\", \"landscape\", \"assume\", \"blueline\", \"policy\", \"rebate\", \"ballpark\", \"weight\", \"colonial\", \"customer\", \"subsidy\", \"regime\", \"planning\", \"severity\", \"et_cetera\", \"cushion\", \"impression\", \"datum\", \"contract\", \"sale\", \"disability\", \"industry\", \"market\", \"hospital\", \"labor\", \"charge\", \"step\", \"mind\", \"work\", \"accounting\", \"player\", \"construction\", \"slide\", \"vegas\", \"base\", \"rule\", \"guide\", \"nurse\", \"may\", \"rates\", \"doj\", \"problem\", \"wrap\", \"conversion\", \"week\", \"fall\", \"individual\", \"field\", \"henderson\", \"arm\", \"hop\", \"hip\", \"caution\", \"healthcare\", \"people\", \"plan\", \"staffing\", \"cost\", \"trend\", \"investigation\", \"specialty\", \"approval\", \"sound\", \"uk\", \"topic\", \"focus\", \"action\", \"drug\", \"administration\", \"operation\", \"push\", \"gen_rent\", \"employer\", \"neff\", \"synergy\", \"gap\", \"ph\", \"census\", \"acquisition\", \"wondering\", \"contracting\", \"access\", \"proposal\", \"brexit\", \"gotcha\", \"softness\", \"anniversary\", \"nes\", \"likelihood\", \"transparency\", \"provider\", \"network\", \"view\", \"impact\", \"area\", \"strategy\", \"revenue\", \"premium\", \"service\", \"rest\", \"decline\", \"project\", \"saving\", \"day\", \"single_digit\", \"effort\", \"clarification\", \"net\", \"top\", \"productivity\", \"stabilization\", \"word\", \"xl\", \"vision\", \"reduction\", \"weather\", \"digit\", \"turn\", \"quantify\", \"jump\", \"november\", \"credibility\", \"bonus\", \"selling_season\", \"ipf\", \"rtc\", \"product\", \"acute\", \"cost\", \"recovery\", \"pressure\", \"leverage\", \"store\", \"case\", \"wage\", \"deal\", \"review\", \"magnitude\", \"inflation\", \"efficiency\", \"air\", \"standpoint\", \"population\", \"adoption\", \"mark\", \"sustainability\", \"leadership\", \"position\", \"fair\", \"reflection\", \"scott\", \"repurchase\", \"purchase\", \"expecting\", \"component\", \"cambian\", \"seeing\", \"sustain\", \"penalty\", \"amazon\", \"fleet\", \"psych\", \"operating\", \"cost\", \"baker\", \"capex\", \"investor\", \"demand\", \"backdrop\", \"technology\", \"model\", \"cut\", \"fact\", \"surgery\", \"light\", \"acceleration\", \"profit\", \"supply\", \"control\", \"flavor\", \"winner\", \"advantage\", \"foot\", \"ed\", \"freestanding\", \"export\", \"washington\", \"marketplace\", \"trending\", \"chain\", \"balance\", \"nonwinner\", \"loser\", \"humphrey\", \"procedure\", \"volume\", \"fleet\", \"lot\", \"staffing\", \"length\", \"benefit\", \"stay\", \"incidence\", \"account\", \"comp\", \"cycle\", \"managed_medicaid\", \"insurance\", \"hi_everybody\", \"noise\", \"solution\", \"referral\", \"total_control\", \"figure\", \"imd\", \"feel\", \"sign\", \"measure\", \"exclusion\", \"surprise\", \"staff\", \"bid\", \"readmission\", \"example\", \"department\", \"operator\", \"territory\", \"remind\", \"comfort\", \"recovery\", \"health\", \"opportunity\", \"outlook\", \"visibility\", \"pipeline\", \"tailwind\", \"right\", \"need\", \"address\", \"bigger_picture\", \"start\", \"transformation\", \"midpoint\", \"challenge\", \"appetite\", \"success\", \"saw\", \"optumcare\", \"recruiting\", \"size\", \"inpatient\", \"testing\", \"michael\", \"aspect\", \"cold_starts\", \"court\", \"reduce\", \"insurer\", \"uncertainty\", \"ramirez\", \"treasury\", \"math\", \"health\", \"gear\", \"andrew\", \"people\", \"dynamic\", \"expectation\", \"mean\", \"call\", \"investment_income\", \"source\", \"know\", \"medicare\", \"january\", \"percentage\", \"comparison\", \"course\", \"fund\", \"medicare_advantage\", \"incremental\", \"pickup\", \"estimate\", \"spending\", \"pull\", \"baseline\", \"replacement\", \"sorry\", \"filing\", \"majority\", \"interplay\", \"availability\", \"knee\", \"prepay\", \"fasb\", \"maturity\", \"naic\", \"expansion\", \"jess\", \"ebitda\", \"view\", \"impact\", \"cms\", \"expense\", \"result\", \"initiative\", \"site\", \"persistency\", \"item\", \"loss_ratio\", \"context\", \"renewal\", \"peer\", \"decision\", \"degree\", \"quick\", \"morning\", \"freight\", \"employment\", \"decade\", \"response\", \"discipline\", \"general\", \"post\", \"hca\", \"tracking\", \"category\", \"incorporate\", \"processing\", \"whatnot\", \"etcetera\", \"performance\", \"fuel\", \"rick\", \"trend\", \"market\", \"share\", \"contribution\", \"cash_flow\", \"helpful\", \"strength\", \"alan\", \"mike\", \"money\", \"insight\", \"goal\", \"uhs\", \"jv\", \"head\", \"picture\", \"count\", \"profitability\", \"calendar\", \"framework\", \"jvs\", \"baylor\", \"valuation\", \"peak_season\", \"power\", \"congratulation\", \"resolution\", \"jim\", \"generate\", \"asr\", \"surcharge\", \"dirt\", \"pension\", \"share\", \"poland\", \"earning\", \"richard\", \"bed\", \"ltc\", \"book\", \"period\", \"percent\", \"bond\", \"exposure\", \"yield\", \"bill\", \"put\", \"effect\", \"center\", \"aoci\", \"termination\", \"morbidity\", \"shortage\", \"experience\", \"closure\", \"consumer\", \"understand\", \"consolidation\", \"pg\", \"stuff\", \"support\", \"world\", \"age\", \"variance\", \"building\", \"drill\", \"pass\", \"value\", \"impact\", \"management\", \"seasonality\", \"situation\", \"volatility\", \"development\", \"cadence\", \"board\", \"pace\", \"negotiation\", \"novo\", \"balance_sheet\", \"leap\", \"assessment\", \"fair_enough\", \"consensus\", \"challenging\", \"forecast\", \"educator\", \"john\", \"february\", \"september\", \"job\", \"geography\", \"march\", \"scheduling\", \"interested\", \"deterioration\", \"lapsation\", \"lapse\", \"provide\", \"wonder\", \"trend\", \"type\", \"performance\", \"impact\", \"april\", \"reserve\", \"progress\", \"jack\", \"behavioral\", \"california\", \"fairwind\", \"payment\", \"gaap\", \"prepayment\", \"unum\", \"economy\", \"shifting\", \"third\", \"medicaid\", \"adequacy\", \"buffer\", \"exit\", \"bucket\", \"back\", \"aar\", \"good\", \"repo\", \"dish\", \"specific\", \"clear\", \"give_u\", \"grow\", \"risk\", \"page\", \"commercial\", \"area\", \"commentary\", \"product\", \"acquisition\"], \"Freq\": [193.0, 185.0, 123.0, 143.0, 76.0, 83.0, 68.0, 71.0, 76.0, 60.0, 53.0, 65.0, 43.0, 55.0, 65.0, 40.0, 40.0, 49.0, 38.0, 48.0, 62.0, 34.0, 32.0, 92.0, 33.0, 33.0, 35.0, 41.0, 31.0, 49.0, 64.8437185511165, 47.49831221368783, 41.00444094697611, 35.54836221147969, 20.177307109270117, 17.51077436218044, 15.52996863172147, 12.750506518316659, 12.607042545117963, 12.266400562125641, 12.198106295817102, 12.15964506082257, 11.984691710859067, 11.977951098208134, 11.706290847194182, 10.85317338685142, 10.677561574900851, 10.35811971624211, 10.263808362611273, 9.768064090798859, 9.33872100708217, 8.180297455953006, 7.934394042999795, 7.687161947822683, 7.3296962610608185, 7.132036163026662, 126.60601059262613, 5.983919893645039, 5.630268191166592, 4.638708706101491, 29.160123925159752, 12.991222191471769, 9.899906209925836, 10.96499199050504, 122.44212262677088, 54.574586644735376, 48.941354758421234, 34.82133923540512, 27.760043330840187, 27.592608839047745, 26.02057110524034, 24.79764876524681, 20.980957724335187, 15.806841115891551, 14.470661622497577, 14.30113145001261, 10.895906446667722, 10.732917178371544, 9.427833157050474, 7.941893097244385, 7.561069045130534, 7.444678916891766, 6.984471353973033, 6.844588810897046, 6.828946535706421, 6.254177480379657, 6.21655617011863, 5.764168238195144, 5.091058500076518, 4.044015145248261, 3.896856853801041, 3.8752299864961883, 3.5214802908777023, 3.3406073031419368, 11.920064546485566, 29.636607122892794, 9.029143088047816, 8.41327435955645, 12.799334424506418, 6.893268565646317, 6.273996427604688, 192.21845136543007, 23.386453450439383, 21.908699695777912, 20.78665427134892, 20.35973864100707, 19.259575952626783, 19.01797894752587, 16.68149683895506, 15.021542077039165, 9.646591145125454, 8.915378883520633, 8.099749759389452, 6.876687288277692, 6.559732760212403, 6.3496782975258474, 24.180955196055795, 5.256092807073324, 4.713402013960783, 4.225448826936983, 4.209210761748157, 4.037492108436136, 3.6473361505171553, 3.5896520842351713, 3.5804512919514724, 3.367387422610513, 3.2396389942105848, 37.18214077964021, 2.7943475944230496, 2.763435931147522, 24.064782904768897, 24.44235416766905, 37.80585675264428, 15.628163488624452, 4.880166992958481, 6.137960350831969, 4.695086715553629, 4.244341252448718, 182.1468476305259, 27.66690059034519, 22.538010385283524, 20.859700602661004, 19.537820366440194, 29.943796051100616, 15.926966031621038, 11.809193657017788, 11.137616670393, 11.051784864254056, 10.445181948583278, 9.800642998325815, 8.635985068305061, 8.162324257728871, 7.893728048874986, 7.290348973870424, 5.861695162564295, 5.855660705100108, 5.467395211249092, 3.796232812559438, 3.698307784205755, 3.648785855195514, 3.607774948883352, 3.5284915256917913, 15.700706865174133, 3.190700111982722, 2.9212864838129966, 2.8988644011268443, 2.590255447313129, 10.520027555778045, 20.903448162171188, 34.36898059291094, 28.330258936202203, 20.172879475014362, 4.588532631421912, 5.188890657977952, 6.018461186274538, 4.749177750789448, 32.27617532926719, 26.57107179539762, 24.425784090432483, 80.61327881428647, 23.885774580963318, 21.24634690015188, 20.298033290268933, 20.11611251769366, 22.748380411888817, 15.16853938679043, 12.490724391513158, 12.230658970317272, 11.600407856983326, 10.142650832719314, 9.467004276296725, 9.04326164703466, 7.110055538792345, 7.094452607581389, 6.6214969594369695, 6.289896119487334, 6.286729780959717, 6.0541424941948865, 5.690854054667599, 5.393062751767334, 5.232433678204446, 5.07925018373714, 4.957518518017295, 4.627459746740801, 12.136214273490491, 4.275671188760687, 24.006690607054395, 18.332118758476085, 6.803845942817346, 5.466198226074081, 59.60849200699538, 30.338859103516054, 20.966640555415452, 20.298572376772853, 18.454563938377962, 16.424305393097107, 13.672823575250577, 13.273397501740854, 12.366323720382224, 11.782158319942464, 9.756283600799629, 8.82568374882608, 8.575153373836658, 8.300734191460723, 8.048111268703497, 7.326533272696967, 7.1412714766025385, 6.9756060137270675, 6.871682729997985, 6.228907828509976, 6.022986597318129, 5.805574784064056, 5.356728362979159, 4.737428781011369, 4.553863674146084, 4.509318102772397, 4.466687183224042, 4.374865097359737, 4.351883933235286, 4.080469749887666, 9.712637659357263, 71.07808441601634, 34.01410028890917, 26.575544886190972, 26.407178162960317, 20.77346209843868, 19.13089582428199, 14.853677646431452, 13.710414411203718, 12.542133707942638, 9.308339761748064, 8.692043020185483, 8.605844324291382, 7.864281266475295, 6.689526182702769, 5.973193987485019, 5.85561517072159, 5.318774809926568, 5.2670851393298745, 4.464015201897531, 4.309132579404912, 3.982436355466272, 3.6372682637799003, 12.477306239450346, 3.0469132587697425, 2.90047560704565, 2.8655718282787657, 2.5966242508918542, 7.617387990904177, 2.3608629702084527, 2.3608629702084527, 6.88138219353363, 13.571013220216221, 35.0277382399951, 10.845869312606125, 7.07449580260729, 5.077448326071882, 34.382939869763625, 26.112848027936387, 19.486448702333792, 14.666651687519428, 13.768542050946836, 13.653516149786975, 10.331178130488786, 10.310918798019582, 8.426798991073394, 7.050452472450759, 6.5827316834202705, 6.060080256134691, 6.04942403032499, 5.603729568036776, 5.054278806247535, 4.740564425416724, 4.626604382751622, 4.285129554644318, 3.7981806123125303, 3.680934526492606, 3.3920812124822053, 3.3662021776660267, 3.1373960001476173, 3.0756269289160865, 3.0612649693224845, 3.0566266683341174, 2.9531473316203503, 2.86642259213937, 2.86642259213937, 2.810192304825487, 6.170554908494004, 9.39302071289889, 24.024256078889525, 8.968100346965572, 25.5175582734589, 21.93003239589249, 3.484187617297941, 26.319499299686047, 22.03625966235865, 21.838405831039175, 19.958771316065942, 19.338023714778345, 16.470161252624486, 13.24001986817374, 8.787948956147044, 8.753575174931155, 8.69439730721875, 8.499810432266415, 8.448635821660606, 7.642131744466247, 7.09134259702361, 5.734633781224439, 5.348578573733632, 5.266188023970748, 5.213747040100065, 20.44458335524805, 5.055592323061398, 5.041164729877611, 4.540984740502287, 4.481287192779031, 4.3076447168404925, 4.027300006076322, 3.6378060796525102, 3.48670541770774, 3.3305494343762843, 3.1214242337111595, 2.84862459242836, 8.725112985013068, 7.144697182052157, 12.38485497060399, 12.674229815079828, 6.2144408346583955, 4.813664171106419, 67.56902573548199, 38.07319602254887, 18.574181772627625, 18.236172597470294, 16.079084975709137, 13.359607453681976, 9.458789900066666, 31.105648027046254, 8.228233198270141, 8.107012191497931, 5.857734755468339, 5.683943358489157, 5.606214843014291, 5.589466689762932, 5.096164057588874, 4.660056868577447, 4.6492796182527325, 4.642762105766637, 4.340100803159211, 4.207577746360569, 3.8872082023894636, 3.8238587443696312, 3.78373792076631, 3.7114389239370533, 3.4432501461519487, 3.3325380830171256, 3.0819573575617363, 2.921205074903071, 2.8010286694418993, 2.8010286694418993, 12.80943198249093, 6.986420338022833, 12.438179131682963, 3.6918907030131085, 75.5241951604812, 26.934648556541138, 20.225886579377065, 15.214255189345469, 14.700589699469997, 13.547575710294112, 13.15245101548623, 9.647395505748662, 8.778033659645757, 8.243883543241237, 6.982181164752759, 5.812642226910281, 5.507821448134398, 4.975387370380377, 4.834149947781126, 4.779756736180774, 4.543458525933305, 4.526267392436153, 4.460451004828141, 4.278439060121268, 3.8425848496725776, 3.589273526556591, 3.358196066459531, 3.247338231763935, 3.2134390044728596, 3.0870777787856314, 3.042539646591772, 2.62660258014255, 2.5712524241116763, 2.5179507307337072, 17.538859698276816, 6.609265156078903, 4.289815001619202, 10.696287702363527, 3.861918469233504, 52.71584406517043, 11.920457163096174, 10.868498663338455, 9.254775369656937, 9.166752757616681, 12.016283810654219, 8.943993153761278, 8.62082576246072, 7.611608358816656, 6.9176654381830245, 6.865171393728084, 14.722822765118105, 6.611707504664822, 5.760951930937207, 5.280544291128605, 4.759610247924466, 4.510128026746248, 4.229393611334507, 4.1478067294870495, 4.1478067294870495, 3.584007922868131, 2.9763229447693758, 2.953477821350826, 2.884517370948258, 2.875904467438871, 10.804399595503682, 2.404004509130902, 2.404004509130902, 2.404004509130902, 2.3201385856476215, 47.52032837976128, 7.427532725175618, 11.210056849555507, 3.757540395074252, 42.7833492460085, 39.3965784493321, 27.75095849255166, 12.465520490677605, 11.903525651781575, 11.29758068841163, 11.07420497093705, 10.65047764248088, 10.156399822023104, 7.55434040326398, 7.447913607727478, 6.420201850175804, 5.895532121825903, 5.396818414449573, 5.184318755066633, 4.426942417993928, 4.3705753188563445, 4.244758012474635, 4.110251219435867, 4.072903698367877, 3.627043274856805, 2.9491047032057787, 2.911630446772787, 2.8948007244383924, 2.862948997468258, 2.8472266640243933, 2.6275166124271543, 2.5565349551245444, 2.218499473242223, 2.192087127676987, 10.46752123312234, 5.468550631040339, 33.5722863407721, 30.39175928993277, 20.527760136655004, 18.301465453261876, 13.532855080324124, 8.066400889307335, 7.217142179741745, 7.193434187424076, 7.038350993082379, 6.655312034102489, 5.760408850589002, 5.6981405172945285, 5.685790360639148, 5.237431624017663, 5.0372776532383154, 4.905382609462324, 4.883671481714282, 4.669840440064771, 4.6684703648522135, 4.221426701817803, 4.151860340342023, 3.8461185268641684, 3.1557297207725044, 2.859953705289759, 2.830113222708576, 2.8297473091168195, 2.749904619635389, 2.4905580140977057, 2.3586631612995803, 2.3586631612995803, 5.44085475391167, 10.95112614265197, 4.970402933809622, 3.547982597888033, 3.0852514399853272, 2.9948956099440824, 32.82756637562591, 32.412207735354976, 20.260772512903255, 14.090717804953831, 11.717256074128954, 11.528381372736431, 11.031271481642634, 9.85460460182147, 8.724053792807208, 6.917554381448919, 6.076229473961933, 5.709605992244997, 5.673024263400027, 5.413141375572113, 5.2826424817382724, 5.024179038836999, 4.294974769562526, 4.175232559523765, 3.786269844471773, 3.718911659276311, 3.6870853735890856, 3.6014609145682153, 3.0696574741680545, 2.9665767177577926, 2.6938316235497215, 2.4350751742263568, 2.265249673438476, 2.265249673438476, 2.265249673438476, 2.265249484280037, 7.2306751553140085, 3.3718762905568727, 14.26607373102425, 5.7941722989578155, 9.186033178600436, 2.9529402858865987, 39.2061696856418, 25.864602495330132, 17.166097648156356, 16.318372101008315, 15.388057658404557, 15.322249542783753, 13.039488533169623, 11.91973534998719, 8.789877330244812, 8.169016717071807, 6.926120242358142, 6.098551327102933, 5.98832381961957, 5.908926849490181, 5.264613767735874, 4.772710413527195, 4.688534606920699, 4.518056250358475, 4.407198395552842, 3.583844588583601, 3.432896861317884, 3.378281845908441, 2.693012299898613, 2.547523358720126, 1.9579996245037345, 1.9579996245037345, 1.9579996245037345, 1.826381582959648, 13.210551979492207, 1.6386959392990834, 3.207629700308486, 9.279640906926428, 7.828128795441462, 2.132045001065387, 21.97762321666827, 11.208011048847448, 10.413987224693026, 10.412838748929257, 10.162434962208746, 9.910707398461527, 9.43622098501856, 9.247649488617437, 8.221879559073143, 8.148100090912177, 6.618364279576492, 5.841736761204373, 5.673653509733491, 5.049803206224275, 4.9799214858972585, 4.758824751879728, 4.710661270941009, 4.6669704971225, 4.530721377877516, 4.497437944263795, 4.3929093360557685, 4.122340854266858, 3.862946926234727, 3.746221173569454, 3.6600140722536763, 3.635867946443917, 3.4035916088389877, 3.133498532532693, 3.0066686098509003, 2.97605743839041, 16.248721674338963, 4.188979501229535, 6.580683164897483, 4.203258258008614, 23.56635593860135, 22.651537057797288, 12.100420254327545, 10.830555635566512, 9.0506383858454, 8.887048227664122, 8.258524496724277, 7.930090378267579, 7.339808930990784, 6.473348537061992, 6.224764454710414, 6.148947701973403, 5.346806695578327, 5.346806695578327, 5.346806695578327, 4.9834324122370495, 4.738137910642999, 4.156632748077288, 4.1099546859560885, 4.100757387699708, 3.6760151009647433, 3.5766608534935465, 3.393525240456252, 3.311461913707051, 3.182766057649543, 3.033399954278403, 3.015716395532189, 2.9801816644966483, 2.78321166514216, 2.7171668149633588, 9.126080317745846, 6.011888656000038, 19.266261431441002, 16.6247887488366, 13.522832705481758, 10.847501774633988, 10.846240901480728, 8.154540728813986, 7.259722006470251, 6.948854023155669, 5.70249034007138, 5.6917465823415485, 5.598060910894244, 5.15951992933256, 4.957361776191157, 4.805414531232048, 4.610910703973581, 4.51409690962594, 4.181377584895404, 4.085025807244715, 3.8398279213383173, 3.3155778029009895, 3.2803585399542863, 3.139039629834497, 3.0050186977441173, 2.704705243645908, 2.371262006054172, 2.328834014608892, 2.0632823586490736, 2.063282196081622, 2.063282196081622, 2.063282196081622, 4.957381609420231, 9.083156574039352, 5.651074807074021, 4.002092347034717, 5.097558645761206, 2.5167736933136857, 31.38706498304131, 16.423167712170187, 15.26471254439271, 13.605399151188731, 9.454022688812394, 7.594804524544228, 7.405976935396882, 6.678305270803695, 5.017262093239667, 4.644988396180376, 3.9592164435016164, 3.9185874905516753, 3.8426104273296806, 18.346542799113575, 3.3562167073060385, 3.3562173382687814, 3.0336789639483817, 2.8730184980945315, 2.701151502961517, 2.611671206075687, 2.275743802347942, 2.222158660432383, 2.187778131526784, 2.0340039930504905, 1.9482059947330517, 1.943618580109767, 1.903470736251395, 12.951368410261427, 1.8099065330112274, 1.7541699658825816, 10.403063846025303, 8.380877469670612, 3.4488461392423897, 2.5700541654701428], \"Total\": [193.0, 185.0, 123.0, 143.0, 76.0, 83.0, 68.0, 71.0, 76.0, 60.0, 53.0, 65.0, 43.0, 55.0, 65.0, 40.0, 40.0, 49.0, 38.0, 48.0, 62.0, 34.0, 32.0, 92.0, 33.0, 33.0, 35.0, 41.0, 31.0, 49.0, 65.68729687450563, 48.34189053496973, 41.84801926412117, 36.39445045891771, 21.020885430552017, 18.35435295649354, 16.488861797276137, 13.594084835461716, 13.450620886576207, 13.109978882033447, 13.04168461657426, 13.003223377967627, 12.828270038404831, 12.821529415353192, 12.54986916433924, 11.696751703996478, 11.521139892045909, 11.201698033387167, 11.107386710883143, 10.611642416810719, 10.182299336141856, 9.023875816606859, 8.77797236564057, 8.530740283182634, 8.173274583987283, 7.975614483783819, 143.15439962950188, 6.827498213367815, 6.47384650831165, 5.482287068922197, 59.477229587233744, 25.416688108839026, 17.605364785974377, 38.16486194512899, 123.28785793563789, 55.420296732995695, 49.78706482927497, 35.66704931926161, 28.605753409720368, 28.43831891689308, 26.86628118157743, 25.643358836100546, 21.826667795188925, 16.65255118674529, 15.316371693351309, 15.146841520866342, 11.74161652489376, 11.578627251802994, 10.273543227904206, 8.787603199049094, 8.406779121724052, 8.290388987745498, 7.83018145719579, 7.690298888712019, 7.674656606560153, 7.099887553698087, 7.062266245950631, 6.60987831787066, 5.936838728021934, 4.88972522512041, 4.742566982697234, 4.720940057349921, 4.367190378106872, 4.1863173792783535, 15.965597567189977, 65.46252497816091, 14.649072477102553, 19.94471726088357, 62.487580979317705, 24.069336276745535, 33.39702981581307, 193.07402809834662, 24.242030180955428, 22.764276431713164, 21.642231002115842, 21.215315373082234, 20.11515268302981, 19.873555685894743, 17.537073569471104, 15.877118835091238, 10.502167873063774, 9.770955611458954, 8.95532649080909, 7.732264019200043, 7.4153094907284425, 7.2052550431065105, 28.049975718042692, 6.111669535011646, 5.568978748432916, 5.081025557453023, 5.064787489686478, 4.893068927221035, 4.502912878455476, 4.445228827919617, 4.436028069616169, 4.222964153366821, 4.095215722148907, 47.70610218727909, 3.649924336942747, 3.619012714339136, 31.947325760951127, 36.0962704679099, 92.80858801803967, 63.368049137696964, 10.658660479155827, 25.290407117121987, 17.605364785974377, 22.28647199377016, 185.04075856662774, 28.51742439075052, 23.388534128738275, 21.710224343651056, 20.392084630779046, 31.42868253526541, 16.77748980448673, 12.659717402181448, 11.988140411383048, 11.902308605244105, 11.295705689573326, 10.651166744799221, 9.48650880929511, 9.012848036042682, 8.7442518624095, 8.14087272868033, 6.712218914486429, 6.706184446090157, 6.3179189558512405, 4.646756556014185, 4.548831528745586, 4.499309599735345, 4.458298689873401, 4.379015381282543, 19.510302006316312, 4.041223855956802, 3.771810271119882, 3.7493881949064214, 3.44077918830318, 14.317960722191499, 33.39702981581307, 62.487580979317705, 76.6527120278843, 92.80858801803967, 8.876632095951546, 12.603322605726271, 25.416688108839026, 15.50466956815157, 33.135268713971094, 27.421490494471787, 25.276202789506648, 83.43525330350938, 24.736193329327357, 22.096765599226046, 21.14845199351671, 20.966531216767827, 23.93047570293678, 16.018958872103322, 13.341143093127435, 13.081077669391432, 12.450826556057486, 10.993069535343256, 10.317423008903118, 9.89368038098025, 7.960474253906546, 7.944871313647145, 7.471915666925493, 7.140314821139213, 7.137148486412256, 6.904561203911264, 6.541272761659944, 6.24348145588391, 6.082852398345916, 5.929668900085259, 5.80793723232743, 5.477878452383401, 14.442053425200726, 5.126089897041824, 32.13557088741331, 59.477229587233744, 27.83198780931616, 33.39702981581307, 60.46087178613524, 31.19124176302968, 21.819020329577057, 21.15095215649323, 19.306943712539567, 17.276685172684445, 14.525203351876877, 14.125777275902456, 13.21870350012456, 12.634538099082334, 10.608663388856295, 9.67806353081067, 9.427533164332363, 9.153113965622325, 8.900491042865099, 8.17891305866268, 7.993651253592737, 7.82798584215829, 7.724062523535615, 7.081287610925908, 6.875366377198078, 6.657954558225657, 6.209108142119029, 5.5898085605932675, 5.406243448307684, 5.361697879751984, 5.319066960203628, 5.2272448828673745, 5.204263740325074, 4.932849526867252, 47.70610218727909, 71.92718670014156, 34.86320257303437, 27.424647170316174, 27.25628044708552, 21.622564382563883, 19.97999810840719, 15.702779942496157, 14.559516695328917, 13.391235992067836, 10.157442050046871, 9.541145309736415, 9.45494661140061, 8.713383558788975, 7.538628466827967, 6.822296271610217, 6.704717458458887, 6.167877097070424, 6.116187445309574, 5.313117486022729, 5.158234877901329, 4.83153864376508, 4.486370619203334, 15.436340644815665, 3.8960155491588133, 3.7495779481040676, 3.7146741323170422, 3.4457267401499343, 10.153121817432888, 3.209965366790597, 3.209965366790597, 9.44751271246862, 22.28647199377016, 65.46252497816091, 36.0962704679099, 31.947325760951127, 143.15439962950188, 35.23296072975367, 26.962868881496355, 20.33646961013453, 15.516672547138427, 14.618562915370225, 14.503537003346938, 11.181198991789765, 11.160939664331934, 9.276819850757445, 7.900473326010722, 7.43275255315712, 6.910101109694654, 6.899444886840553, 6.453750421596739, 5.904299667833944, 5.590585300509887, 5.476625254732353, 5.1351504568473665, 4.648201465872494, 4.5309553983991915, 4.242102066042169, 4.216223039191841, 3.9874168763322895, 3.9256478096045027, 3.911285829006538, 3.9066475218940826, 3.8031682144153653, 3.716443457950923, 3.716443472972282, 3.6602132041171247, 8.31229309526491, 13.280806816554788, 38.16486194512899, 13.527262588271693, 49.40969080722674, 63.368049137696964, 8.876632095951546, 27.166864101937968, 22.883624522143688, 22.685770633291096, 20.80613612113585, 20.185388525694467, 17.317526054876407, 14.08738468240613, 9.635313762085111, 9.600939977183069, 9.54176211726692, 9.34717524545014, 9.29600062391252, 8.48949654973682, 7.9387074190014255, 6.581998583476353, 6.1959433759855465, 6.113552831580765, 6.061111847777713, 23.82787397212708, 5.902957125313312, 5.8885295393217945, 5.388349548847275, 5.328651997571062, 5.155009548529738, 4.874664832592211, 4.48517090027669, 4.334070222537373, 4.1779142366282, 3.968789081082651, 3.695989394680277, 11.60298347607217, 11.724169003144404, 27.83198780931616, 92.80858801803967, 17.430741132092578, 14.649072477102553, 68.41866031562083, 38.92283061441793, 19.423816346881296, 19.08580717430168, 16.928719549962807, 14.209242027935641, 10.308424474320331, 34.101270774853624, 9.077867780712289, 8.956646769888433, 6.707369329722006, 6.533577961763235, 6.455849417267958, 6.439101267497915, 5.9457986374013165, 5.509691462055551, 5.498914192506399, 5.4923966800203035, 5.189735382938374, 5.057212340503535, 4.736842779918218, 4.673493318623298, 4.633372497484674, 4.561073506379202, 4.292884720405615, 4.182172664207151, 3.9315919673142634, 3.7708396521407677, 3.65066326055897, 3.65066326055897, 17.073784345143952, 9.755445921145892, 49.40969080722674, 14.967213564168695, 76.37547095300071, 27.785924346041988, 21.077162372153, 16.065531002035062, 15.551865488970842, 14.398851499794956, 14.00372681035579, 10.498671297714205, 9.629309449146602, 9.095159338554708, 7.833456954253604, 6.6639180164111265, 6.359097245804308, 5.826663168069704, 5.685425778310776, 5.631032525681619, 5.394734318262748, 5.377543181936998, 5.311726923709587, 5.12971488439996, 4.6938606391734226, 4.440549324301156, 4.209471864411695, 4.098614030097247, 4.064714793973707, 3.9383535682864785, 3.893815436092619, 3.477878424511138, 3.422528216568124, 3.369226524408164, 25.769269190008128, 12.603322605726271, 7.872483545358001, 49.40969080722674, 7.827045567917072, 53.702816879363255, 12.76869089540121, 11.716732393065774, 10.103009102865572, 10.014986499148113, 13.145074396515298, 9.792226893082505, 9.469059499087624, 8.459842095258528, 7.765899179530366, 7.713405126411002, 16.57137183733969, 7.45994123439214, 6.609185660664526, 6.12877803143057, 5.607844000651143, 5.358361756473567, 5.0776273470298845, 4.996040459214369, 4.9960404667214835, 4.432241656145231, 3.824556687334728, 3.8017115510781463, 3.7327512226308865, 3.7241381971661913, 14.097941739877706, 3.2522382954376967, 3.2522382954376967, 3.2522382954376967, 3.168372321601211, 76.6527120278843, 25.769269190008128, 59.477229587233744, 13.527262588271693, 43.63814905582189, 40.25137825914549, 28.605758302365057, 13.320320333959874, 12.758325465768579, 12.15238050359374, 11.92900478634179, 11.505277454758973, 11.011199642651052, 8.409140213077375, 8.302713421152973, 7.27500167886926, 6.750331937065031, 6.251618224262968, 6.039118573995133, 5.281742230385041, 5.225375170463005, 5.099557822288029, 4.965051058287323, 4.927703547782978, 4.481843084670199, 3.8039045289708264, 3.7664302602723354, 3.7496005647477872, 3.7177488102372545, 3.702026486923118, 3.482316425721867, 3.4113347726245578, 3.073299285633337, 3.046886941040164, 14.967213564168695, 24.069336276745535, 34.42143294223367, 31.240905858839945, 21.376906705562178, 19.15061202216905, 14.382001649231295, 8.915547461695823, 8.066288757350723, 8.042580762595119, 7.887497567415284, 7.50445860718327, 6.609555422314159, 6.547287088741816, 6.534936940367757, 6.086578195502553, 5.886424225695269, 5.754529253790178, 5.732818050621454, 5.518987033075351, 5.517616947038635, 5.07057331456998, 5.001006924113799, 4.69526509577134, 4.004876323706131, 3.7091002741969312, 3.679259864510636, 3.678893922431482, 3.5990512417805443, 3.3397046193952895, 3.2078097728309487, 3.2078098363460206, 7.76569208613059, 24.069336276745535, 10.658660479155827, 7.735801636457184, 13.280806816554788, 14.317960722191499, 33.678593608153776, 33.26323496788284, 21.11179974543112, 14.94174504252411, 12.568283309675476, 12.379408605264294, 11.958206522650851, 10.705631858488498, 9.57508102533507, 7.7685816165545, 6.927256712613884, 6.560633257680612, 6.524052233827654, 6.264168608099975, 6.133669714266135, 5.875206288061935, 5.146002013722323, 5.026259792051627, 4.637297096817753, 4.569938891804174, 4.538112613737298, 4.4524881554459315, 3.9206847498143635, 3.817603952863374, 3.544858859352672, 3.28610240675422, 3.1162769628634677, 3.1162770332514365, 3.1162770332514365, 3.116276831419915, 10.08867729077111, 5.324222438968208, 62.487580979317705, 27.83198780931616, 92.80858801803967, 6.226357051478878, 40.063382680897284, 26.72181549058562, 18.023310643411843, 17.175585098803918, 16.245270682679337, 16.17946253803924, 13.896701561292273, 12.776948345242674, 9.647090325500296, 9.026229724391333, 7.783333237613626, 6.955764342428003, 6.845536836418125, 6.766139849723936, 6.1218267629913585, 5.629923424720829, 5.54574761374734, 5.37526924561396, 5.264411390808327, 4.441057603215116, 4.290109856573369, 4.235494853992826, 3.550225308271833, 3.404736360680423, 2.8152126673786038, 2.8152126673786038, 2.8152126673786038, 2.6835945896975413, 19.465624154950376, 2.495908938035886, 8.33940759385952, 63.368049137696964, 143.15439962950188, 25.290407117121987, 22.82977911447672, 12.06016693667255, 11.266143112518128, 11.26499463675436, 11.01459085372, 10.762863291189479, 10.288376925504393, 10.09980537648014, 9.074035452994881, 9.000255976197161, 7.470520164861478, 6.693892646489359, 6.525809399155312, 5.90195909150926, 5.832077391669903, 5.6109806371647135, 5.562817158803713, 5.519126384872183, 5.382877263162501, 5.349593833685616, 5.245065221340754, 4.974496742507443, 4.715102811519713, 4.598377104183168, 4.512169957538662, 4.488023845057026, 4.255747586734732, 3.985654417817679, 3.858824495135886, 3.828213323675396, 25.290407117121987, 7.549745919132264, 32.13557088741331, 9.710450946648683, 24.426618718670444, 23.51179988579166, 12.960683034396634, 11.6908184156356, 9.910901165914488, 9.747372376458594, 9.118787279812025, 8.790353160801367, 8.200071711059872, 7.333611317131082, 7.085027238953113, 7.009210485317579, 6.207069499743443, 6.207069505727886, 6.207069513000817, 5.843695192306139, 5.598400693474837, 5.016895530964364, 4.970217466025178, 4.9610201677687975, 4.5362778929669245, 4.436923657079443, 4.2537880205253416, 4.1717247052397095, 4.043028851400044, 3.893662734347493, 3.8759791866168656, 3.84044446791322, 3.643474479968626, 3.5774295977951973, 19.94471726088357, 92.80858801803967, 20.12135480801096, 17.479882122577962, 14.377926091201893, 11.702595158434114, 11.701334275222088, 9.009634102555346, 8.11481538021161, 7.803947405872544, 6.557583729499399, 6.546839964730814, 6.4531542846356045, 6.014613337592295, 5.812455155528895, 5.660507916056337, 5.466004089515524, 5.369190283367301, 5.036470972946222, 4.940119241902164, 4.694921295079678, 4.17067119145451, 4.135451942401886, 3.994133010475442, 3.860112077609566, 3.559798617387268, 3.2263553832768492, 3.183927482839124, 2.918375804946235, 2.9183756216812666, 2.9183756216812666, 2.918375632185458, 7.407177541188282, 63.368049137696964, 25.416688108839026, 19.465624154950376, 92.80858801803967, 5.449521772218421, 32.249569393950445, 17.28567212012372, 16.127216999425602, 14.467903564675582, 10.316527099784585, 8.457308935315746, 8.268481343350414, 7.540809701027093, 5.879766528207479, 5.507492810101967, 4.821720851455148, 4.781091901323193, 4.705114840261482, 22.901734620368558, 4.218721151083672, 4.218721964463447, 3.8961833870638354, 3.7355229060480637, 3.5636559241893853, 3.4741756199143756, 3.138248218829525, 3.0846630803211896, 3.0502825394803157, 2.8965084107280115, 2.810710402686584, 2.806122997038814, 2.7659751655048557, 19.100805959318198, 2.6724109463904933, 2.616674376791714, 17.430741132092578, 15.50466956815157, 17.073784345143952, 23.82787397212708], \"Category\": [\"Default\", \"Default\", \"Default\", \"Default\", \"Default\", \"Default\", \"Default\", \"Default\", \"Default\", \"Default\", \"Default\", \"Default\", \"Default\", \"Default\", \"Default\", \"Default\", \"Default\", \"Default\", \"Default\", \"Default\", \"Default\", \"Default\", \"Default\", \"Default\", \"Default\", \"Default\", \"Default\", \"Default\", \"Default\", \"Default\", \"Topic1\", \"Topic1\", \"Topic1\", \"Topic1\", \"Topic1\", \"Topic1\", \"Topic1\", \"Topic1\", \"Topic1\", \"Topic1\", \"Topic1\", \"Topic1\", \"Topic1\", \"Topic1\", \"Topic1\", \"Topic1\", \"Topic1\", \"Topic1\", \"Topic1\", \"Topic1\", \"Topic1\", \"Topic1\", \"Topic1\", \"Topic1\", \"Topic1\", \"Topic1\", \"Topic1\", \"Topic1\", \"Topic1\", \"Topic1\", \"Topic1\", \"Topic1\", \"Topic1\", \"Topic1\", \"Topic2\", \"Topic2\", \"Topic2\", \"Topic2\", \"Topic2\", \"Topic2\", \"Topic2\", \"Topic2\", \"Topic2\", \"Topic2\", \"Topic2\", \"Topic2\", \"Topic2\", \"Topic2\", \"Topic2\", \"Topic2\", \"Topic2\", \"Topic2\", \"Topic2\", \"Topic2\", \"Topic2\", \"Topic2\", \"Topic2\", \"Topic2\", \"Topic2\", \"Topic2\", \"Topic2\", \"Topic2\", \"Topic2\", \"Topic2\", \"Topic2\", \"Topic2\", \"Topic2\", \"Topic2\", \"Topic2\", \"Topic2\", \"Topic2\", \"Topic3\", \"Topic3\", \"Topic3\", \"Topic3\", \"Topic3\", \"Topic3\", \"Topic3\", \"Topic3\", \"Topic3\", \"Topic3\", \"Topic3\", \"Topic3\", \"Topic3\", \"Topic3\", \"Topic3\", \"Topic3\", \"Topic3\", \"Topic3\", \"Topic3\", \"Topic3\", \"Topic3\", \"Topic3\", \"Topic3\", \"Topic3\", \"Topic3\", \"Topic3\", \"Topic3\", \"Topic3\", \"Topic3\", \"Topic3\", \"Topic3\", \"Topic3\", \"Topic3\", \"Topic3\", \"Topic3\", \"Topic3\", \"Topic3\", \"Topic4\", \"Topic4\", \"Topic4\", \"Topic4\", \"Topic4\", \"Topic4\", \"Topic4\", \"Topic4\", \"Topic4\", \"Topic4\", \"Topic4\", \"Topic4\", \"Topic4\", \"Topic4\", \"Topic4\", \"Topic4\", \"Topic4\", \"Topic4\", \"Topic4\", \"Topic4\", \"Topic4\", \"Topic4\", \"Topic4\", \"Topic4\", \"Topic4\", \"Topic4\", \"Topic4\", \"Topic4\", \"Topic4\", \"Topic4\", \"Topic4\", \"Topic4\", \"Topic4\", \"Topic4\", \"Topic4\", \"Topic4\", \"Topic4\", \"Topic4\", \"Topic5\", \"Topic5\", \"Topic5\", \"Topic5\", \"Topic5\", \"Topic5\", \"Topic5\", \"Topic5\", \"Topic5\", \"Topic5\", \"Topic5\", \"Topic5\", \"Topic5\", \"Topic5\", \"Topic5\", \"Topic5\", \"Topic5\", \"Topic5\", \"Topic5\", \"Topic5\", \"Topic5\", \"Topic5\", \"Topic5\", \"Topic5\", \"Topic5\", \"Topic5\", \"Topic5\", \"Topic5\", \"Topic5\", \"Topic5\", \"Topic5\", \"Topic5\", \"Topic5\", \"Topic5\", \"Topic6\", \"Topic6\", \"Topic6\", \"Topic6\", \"Topic6\", \"Topic6\", \"Topic6\", \"Topic6\", \"Topic6\", \"Topic6\", \"Topic6\", \"Topic6\", \"Topic6\", \"Topic6\", \"Topic6\", \"Topic6\", \"Topic6\", \"Topic6\", \"Topic6\", \"Topic6\", \"Topic6\", \"Topic6\", \"Topic6\", \"Topic6\", \"Topic6\", \"Topic6\", \"Topic6\", \"Topic6\", \"Topic6\", \"Topic6\", \"Topic6\", \"Topic7\", \"Topic7\", \"Topic7\", \"Topic7\", \"Topic7\", \"Topic7\", \"Topic7\", \"Topic7\", \"Topic7\", \"Topic7\", \"Topic7\", \"Topic7\", \"Topic7\", \"Topic7\", \"Topic7\", \"Topic7\", \"Topic7\", \"Topic7\", \"Topic7\", \"Topic7\", \"Topic7\", \"Topic7\", \"Topic7\", \"Topic7\", \"Topic7\", \"Topic7\", \"Topic7\", \"Topic7\", \"Topic7\", \"Topic7\", \"Topic7\", \"Topic7\", \"Topic7\", \"Topic7\", \"Topic7\", \"Topic7\", \"Topic8\", \"Topic8\", \"Topic8\", \"Topic8\", \"Topic8\", \"Topic8\", \"Topic8\", \"Topic8\", \"Topic8\", \"Topic8\", \"Topic8\", \"Topic8\", \"Topic8\", \"Topic8\", \"Topic8\", \"Topic8\", \"Topic8\", \"Topic8\", \"Topic8\", \"Topic8\", \"Topic8\", \"Topic8\", \"Topic8\", \"Topic8\", \"Topic8\", \"Topic8\", \"Topic8\", \"Topic8\", \"Topic8\", \"Topic8\", \"Topic8\", \"Topic8\", \"Topic8\", \"Topic8\", \"Topic8\", \"Topic8\", \"Topic8\", \"Topic9\", \"Topic9\", \"Topic9\", \"Topic9\", \"Topic9\", \"Topic9\", \"Topic9\", \"Topic9\", \"Topic9\", \"Topic9\", \"Topic9\", \"Topic9\", \"Topic9\", \"Topic9\", \"Topic9\", \"Topic9\", \"Topic9\", \"Topic9\", \"Topic9\", \"Topic9\", \"Topic9\", \"Topic9\", \"Topic9\", \"Topic9\", \"Topic9\", \"Topic9\", \"Topic9\", \"Topic9\", \"Topic9\", \"Topic9\", \"Topic9\", \"Topic9\", \"Topic9\", \"Topic9\", \"Topic9\", \"Topic9\", \"Topic10\", \"Topic10\", \"Topic10\", \"Topic10\", \"Topic10\", \"Topic10\", \"Topic10\", \"Topic10\", \"Topic10\", \"Topic10\", \"Topic10\", \"Topic10\", \"Topic10\", \"Topic10\", \"Topic10\", \"Topic10\", \"Topic10\", \"Topic10\", \"Topic10\", \"Topic10\", \"Topic10\", \"Topic10\", \"Topic10\", \"Topic10\", \"Topic10\", \"Topic10\", \"Topic10\", \"Topic10\", \"Topic10\", \"Topic10\", \"Topic10\", \"Topic10\", \"Topic10\", \"Topic10\", \"Topic11\", \"Topic11\", \"Topic11\", \"Topic11\", \"Topic11\", \"Topic11\", \"Topic11\", \"Topic11\", \"Topic11\", \"Topic11\", \"Topic11\", \"Topic11\", \"Topic11\", \"Topic11\", \"Topic11\", \"Topic11\", \"Topic11\", \"Topic11\", \"Topic11\", \"Topic11\", \"Topic11\", \"Topic11\", \"Topic11\", \"Topic11\", \"Topic11\", \"Topic11\", \"Topic11\", \"Topic11\", \"Topic11\", \"Topic11\", \"Topic11\", \"Topic11\", \"Topic11\", \"Topic11\", \"Topic11\", \"Topic12\", \"Topic12\", \"Topic12\", \"Topic12\", \"Topic12\", \"Topic12\", \"Topic12\", \"Topic12\", \"Topic12\", \"Topic12\", \"Topic12\", \"Topic12\", \"Topic12\", \"Topic12\", \"Topic12\", \"Topic12\", \"Topic12\", \"Topic12\", \"Topic12\", \"Topic12\", \"Topic12\", \"Topic12\", \"Topic12\", \"Topic12\", \"Topic12\", \"Topic12\", \"Topic12\", \"Topic12\", \"Topic12\", \"Topic12\", \"Topic12\", \"Topic12\", \"Topic12\", \"Topic12\", \"Topic13\", \"Topic13\", \"Topic13\", \"Topic13\", \"Topic13\", \"Topic13\", \"Topic13\", \"Topic13\", \"Topic13\", \"Topic13\", \"Topic13\", \"Topic13\", \"Topic13\", \"Topic13\", \"Topic13\", \"Topic13\", \"Topic13\", \"Topic13\", \"Topic13\", \"Topic13\", \"Topic13\", \"Topic13\", \"Topic13\", \"Topic13\", \"Topic13\", \"Topic13\", \"Topic13\", \"Topic13\", \"Topic13\", \"Topic13\", \"Topic13\", \"Topic13\", \"Topic14\", \"Topic14\", \"Topic14\", \"Topic14\", \"Topic14\", \"Topic14\", \"Topic14\", \"Topic14\", \"Topic14\", \"Topic14\", \"Topic14\", \"Topic14\", \"Topic14\", \"Topic14\", \"Topic14\", \"Topic14\", \"Topic14\", \"Topic14\", \"Topic14\", \"Topic14\", \"Topic14\", \"Topic14\", \"Topic14\", \"Topic14\", \"Topic14\", \"Topic14\", \"Topic14\", \"Topic14\", \"Topic14\", \"Topic14\", \"Topic14\", \"Topic14\", \"Topic14\", \"Topic14\", \"Topic14\", \"Topic14\", \"Topic15\", \"Topic15\", \"Topic15\", \"Topic15\", \"Topic15\", \"Topic15\", \"Topic15\", \"Topic15\", \"Topic15\", \"Topic15\", \"Topic15\", \"Topic15\", \"Topic15\", \"Topic15\", \"Topic15\", \"Topic15\", \"Topic15\", \"Topic15\", \"Topic15\", \"Topic15\", \"Topic15\", \"Topic15\", \"Topic15\", \"Topic15\", \"Topic15\", \"Topic15\", \"Topic15\", \"Topic15\", \"Topic15\", \"Topic15\", \"Topic15\", \"Topic15\", \"Topic15\", \"Topic15\", \"Topic15\", \"Topic15\", \"Topic16\", \"Topic16\", \"Topic16\", \"Topic16\", \"Topic16\", \"Topic16\", \"Topic16\", \"Topic16\", \"Topic16\", \"Topic16\", \"Topic16\", \"Topic16\", \"Topic16\", \"Topic16\", \"Topic16\", \"Topic16\", \"Topic16\", \"Topic16\", \"Topic16\", \"Topic16\", \"Topic16\", \"Topic16\", \"Topic16\", \"Topic16\", \"Topic16\", \"Topic16\", \"Topic16\", \"Topic16\", \"Topic16\", \"Topic16\", \"Topic16\", \"Topic16\", \"Topic16\", \"Topic16\", \"Topic17\", \"Topic17\", \"Topic17\", \"Topic17\", \"Topic17\", \"Topic17\", \"Topic17\", \"Topic17\", \"Topic17\", \"Topic17\", \"Topic17\", \"Topic17\", \"Topic17\", \"Topic17\", \"Topic17\", \"Topic17\", \"Topic17\", \"Topic17\", \"Topic17\", \"Topic17\", \"Topic17\", \"Topic17\", \"Topic17\", \"Topic17\", \"Topic17\", \"Topic17\", \"Topic17\", \"Topic17\", \"Topic17\", \"Topic17\", \"Topic17\", \"Topic17\", \"Topic17\", \"Topic17\", \"Topic18\", \"Topic18\", \"Topic18\", \"Topic18\", \"Topic18\", \"Topic18\", \"Topic18\", \"Topic18\", \"Topic18\", \"Topic18\", \"Topic18\", \"Topic18\", \"Topic18\", \"Topic18\", \"Topic18\", \"Topic18\", \"Topic18\", \"Topic18\", \"Topic18\", \"Topic18\", \"Topic18\", \"Topic18\", \"Topic18\", \"Topic18\", \"Topic18\", \"Topic18\", \"Topic18\", \"Topic18\", \"Topic18\", \"Topic18\", \"Topic18\", \"Topic18\", \"Topic19\", \"Topic19\", \"Topic19\", \"Topic19\", \"Topic19\", \"Topic19\", \"Topic19\", \"Topic19\", \"Topic19\", \"Topic19\", \"Topic19\", \"Topic19\", \"Topic19\", \"Topic19\", \"Topic19\", \"Topic19\", \"Topic19\", \"Topic19\", \"Topic19\", \"Topic19\", \"Topic19\", \"Topic19\", \"Topic19\", \"Topic19\", \"Topic19\", \"Topic19\", \"Topic19\", \"Topic19\", \"Topic19\", \"Topic19\", \"Topic19\", \"Topic19\", \"Topic19\", \"Topic19\", \"Topic19\", \"Topic19\", \"Topic20\", \"Topic20\", \"Topic20\", \"Topic20\", \"Topic20\", \"Topic20\", \"Topic20\", \"Topic20\", \"Topic20\", \"Topic20\", \"Topic20\", \"Topic20\", \"Topic20\", \"Topic20\", \"Topic20\", \"Topic20\", \"Topic20\", \"Topic20\", \"Topic20\", \"Topic20\", \"Topic20\", \"Topic20\", \"Topic20\", \"Topic20\", \"Topic20\", \"Topic20\", \"Topic20\", \"Topic20\", \"Topic20\", \"Topic20\", \"Topic20\", \"Topic20\", \"Topic20\", \"Topic20\"], \"logprob\": [30.0, 29.0, 28.0, 27.0, 26.0, 25.0, 24.0, 23.0, 22.0, 21.0, 20.0, 19.0, 18.0, 17.0, 16.0, 15.0, 14.0, 13.0, 12.0, 11.0, 10.0, 9.0, 8.0, 7.0, 6.0, 5.0, 4.0, 3.0, 2.0, 1.0, -2.5634000301361084, -2.8747000694274902, -3.021699905395508, -3.1644999980926514, -3.7309000492095947, -3.8726000785827637, -3.9925999641418457, -4.189799785614014, -4.201200008392334, -4.228499889373779, -4.234099864959717, -4.237299919128418, -4.251800060272217, -4.252299785614014, -4.275300025939941, -4.35099983215332, -4.367300033569336, -4.397600173950195, -4.406799793243408, -4.456299781799316, -4.501200199127197, -4.633699893951416, -4.6641998291015625, -4.695899963378906, -4.743500232696533, -4.7708001136779785, -1.8942999839782715, -4.946300029754639, -5.007299900054932, -5.201000213623047, -3.362600088119507, -4.17110013961792, -4.44290018081665, -4.340700149536133, -1.8880000114440918, -2.696000099182129, -2.805000066757202, -3.145400047302246, -3.371999979019165, -3.3780999183654785, -3.4367001056671143, -3.4848999977111816, -3.6519999504089355, -3.9351999759674072, -4.023499965667725, -4.035299777984619, -4.307199954986572, -4.322299957275391, -4.451900005340576, -4.623499870300293, -4.672599792480469, -4.6880998611450195, -4.7519001960754395, -4.772200107574463, -4.774400234222412, -4.862400054931641, -4.8684000968933105, -4.943999767303467, -5.0680999755859375, -5.298399925231934, -5.335400104522705, -5.341000080108643, -5.436699867248535, -5.489500045776367, -4.217400074005127, -3.3066000938415527, -4.495200157165527, -4.565800189971924, -4.146200180053711, -4.765100002288818, -4.8592000007629395, -1.373900055885315, -3.4804000854492188, -3.5457000732421875, -3.5982000827789307, -3.61899995803833, -3.674499988555908, -3.6872000694274902, -3.8183000087738037, -3.923099994659424, -4.365900039672852, -4.444799900054932, -4.5406999588012695, -4.704400062561035, -4.7515997886657715, -4.78410005569458, -3.447000026702881, -4.973199844360352, -5.082099914550781, -5.191400051116943, -5.195300102233887, -5.2368998527526855, -5.338600158691406, -5.354499816894531, -5.357100009918213, -5.418399810791016, -5.457099914550781, -3.016700029373169, -5.605000019073486, -5.616099834442139, -3.4518001079559326, -3.436199903488159, -3.0000998973846436, -3.883500099182129, -5.047399997711182, -4.8180999755859375, -5.085999965667725, -5.186999797821045, -1.409500002861023, -3.294100046157837, -3.4990999698638916, -3.5764999389648438, -3.6419999599456787, -3.2149999141693115, -3.846299886703491, -4.145500183105469, -4.203999996185303, -4.211699962615967, -4.268199920654297, -4.331900119781494, -4.458399772644043, -4.514800071716309, -4.548299789428711, -4.627799987792969, -4.845900058746338, -4.84689998626709, -4.915500164031982, -5.280300140380859, -5.30649995803833, -5.319900035858154, -5.331200122833252, -5.353499889373779, -3.860599994659424, -5.454100131988525, -5.542300224304199, -5.550000190734863, -5.662600040435791, -4.261099815368652, -3.574399948120117, -3.077199935913086, -3.270400047302246, -3.609999895095825, -5.090799808502197, -4.967800140380859, -4.819499969482422, -5.056399822235107, -3.0539000034332275, -3.2483999729156494, -3.3326001167297363, -2.1386001110076904, -3.3550000190734863, -3.472100019454956, -3.517699956893921, -3.526700019836426, -3.4038000106811523, -3.809000015258789, -4.003300189971924, -4.0243000984191895, -4.077199935913086, -4.21150016784668, -4.280399799346924, -4.326200008392334, -4.566800117492676, -4.568900108337402, -4.637899875640869, -4.689300060272217, -4.689799785614014, -4.727499961853027, -4.789400100708008, -4.843100070953369, -4.8734002113342285, -4.90310001373291, -4.9274001121521, -4.996300220489502, -4.032100200653076, -5.075300216674805, -3.349900007247925, -3.6196000576019287, -4.610799789428711, -4.829699993133545, -2.26419997215271, -2.939500093460083, -3.309000015258789, -3.341399908065796, -3.4365999698638916, -3.5532000064849854, -3.736599922180176, -3.766200065612793, -3.8369998931884766, -3.8854000568389893, -4.073999881744385, -4.174300193786621, -4.203100204467773, -4.235599994659424, -4.266499996185303, -4.360499858856201, -4.386099815368652, -4.4095001220703125, -4.424600124359131, -4.522799968719482, -4.556399822235107, -4.593100070953369, -4.673600196838379, -4.796500205993652, -4.835999965667725, -4.845799922943115, -4.855299949645996, -4.876100063323975, -4.881400108337402, -4.945700168609619, -4.078499794006348, -2.0792999267578125, -2.8162999153137207, -3.0631000995635986, -3.069499969482422, -3.3094000816345215, -3.3917999267578125, -3.64490008354187, -3.7249999046325684, -3.813999891281128, -4.112199783325195, -4.180699825286865, -4.190700054168701, -4.280799865722656, -4.442599773406982, -4.555799961090088, -4.575699806213379, -4.671899795532227, -4.681600093841553, -4.847099781036377, -4.882400035858154, -4.96120023727417, -5.0518999099731445, -3.819200038909912, -5.229000091552734, -5.278200149536133, -5.290299892425537, -5.388899803161621, -4.312699794769287, -5.484099864959717, -5.484099864959717, -4.414299964904785, -3.7351999282836914, -2.7869999408721924, -3.9593000411987305, -4.386600017547607, -4.718299865722656, -2.690200090408325, -2.9653000831604004, -3.257999897003174, -3.5422000885009766, -3.6054000854492188, -3.613800048828125, -3.8926000595092773, -3.8945999145507812, -4.09630012512207, -4.274700164794922, -4.343299865722656, -4.426000118255615, -4.427800178527832, -4.504300117492676, -4.607500076293945, -4.671599864959717, -4.695899963378906, -4.772600173950195, -4.893199920654297, -4.924600124359131, -5.00629997253418, -5.013999938964844, -5.084400177001953, -5.104300022125244, -5.10890007019043, -5.110499858856201, -5.144899845123291, -5.174699783325195, -5.174699783325195, -5.194499969482422, -4.4079999923706055, -3.987799882888794, -3.0487000942230225, -4.03410005569458, -2.9883999824523926, -3.139899969100952, -4.979499816894531, -2.9372000694274902, -3.114799976348877, -3.123800039291382, -3.2137999534606934, -3.2453999519348145, -3.405900001525879, -3.6242001056671143, -4.03410005569458, -4.038000106811523, -4.0447998046875, -4.067399978637695, -4.073500156402588, -4.173799991607666, -4.248600006103516, -4.460899829864502, -4.530600070953369, -4.546199798583984, -4.55620002746582, -3.1898000240325928, -4.586999893188477, -4.589799880981445, -4.694300174713135, -4.707600116729736, -4.747099876403809, -4.8144001960754395, -4.916100025177002, -4.958499908447266, -5.004300117492676, -5.069200038909912, -5.160600185394287, -4.041299819946289, -4.241099834442139, -3.690999984741211, -3.6679000854492188, -4.3805999755859375, -4.636000156402588, -1.9768999814987183, -2.550600051879883, -3.2683000564575195, -3.2867000102996826, -3.4124999046325684, -3.5978000164031982, -3.9430999755859375, -2.752700090408325, -4.082499980926514, -4.097300052642822, -4.422299861907959, -4.452400207519531, -4.46619987487793, -4.469200134277344, -4.561600208282471, -4.651000022888184, -4.65339994430542, -4.654799938201904, -4.7221999168396, -4.753200054168701, -4.832399845123291, -4.848800182342529, -4.859399795532227, -4.878600120544434, -4.95359992980957, -4.986299991607666, -5.064499855041504, -5.118100166320801, -5.160099983215332, -5.160099983215332, -3.639899969100952, -4.246099948883057, -3.669300079345703, -4.883900165557861, -1.8460999727249146, -2.87719988822937, -3.163599967956543, -3.4484000205993652, -3.4827001094818115, -3.5643999576568604, -3.5940001010894775, -3.903899908065796, -3.998300075531006, -4.061100006103516, -4.227200031280518, -4.410600185394287, -4.464399814605713, -4.566100120544434, -4.594900131225586, -4.606200218200684, -4.656899929046631, -4.660699844360352, -4.675300121307373, -4.7170000076293945, -4.824399948120117, -4.892600059509277, -4.959199905395508, -4.992800235748291, -5.003200054168701, -5.043399810791016, -5.0578999519348145, -5.204899787902832, -5.226200103759766, -5.247099876403809, -3.3062000274658203, -4.282100200653076, -4.714300155639648, -3.8006999492645264, -4.819399833679199, -2.1445999145507812, -3.6312999725341797, -3.7237000465393066, -3.884399890899658, -3.893899917602539, -3.623300075531006, -3.9184999465942383, -3.9553000926971436, -4.079800128936768, -4.1753997802734375, -4.18310022354126, -3.420099973678589, -4.220699787139893, -4.358399868011475, -4.445499897003174, -4.5493998527526855, -4.6031999588012695, -4.667500019073486, -4.6869001388549805, -4.6869001388549805, -4.833000183105469, -5.018799781799316, -5.026500225067139, -5.05019998550415, -5.053199768066406, -3.729599952697754, -5.232399940490723, -5.232399940490723, -5.232399940490723, -5.267899990081787, -2.2483999729156494, -4.104300022125244, -3.692699909210205, -4.785799980163574, -2.2718000411987305, -2.354300022125244, -2.704699993133545, -3.505000114440918, -3.5511999130249023, -3.6033999919891357, -3.6233999729156494, -3.662400007247925, -3.70989990234375, -4.005899906158447, -4.020100116729736, -4.168499946594238, -4.253799915313721, -4.342199802398682, -4.382400035858154, -4.540299892425537, -4.553100109100342, -4.582300186157227, -4.614500045776367, -4.623600006103516, -4.73960018157959, -4.946499824523926, -4.9593000411987305, -4.965099811553955, -4.976099967956543, -4.981599807739258, -5.061999797821045, -5.089300155639648, -5.231200218200684, -5.243100166320801, -3.6796998977661133, -4.328999996185303, -2.5027999877929688, -2.602299928665161, -2.9946999549865723, -3.109499931335449, -3.41129994392395, -3.9286999702453613, -4.039999961853027, -4.043300151824951, -4.065100193023682, -4.120999813079834, -4.265399932861328, -4.276299953460693, -4.278500080108643, -4.360599994659424, -4.399600028991699, -4.42609977722168, -4.430600166320801, -4.475299835205078, -4.475599765777588, -4.576300144195557, -4.592899799346924, -4.669400215148926, -4.867199897766113, -4.96560001373291, -4.976099967956543, -4.97629976272583, -5.004899978637695, -5.103899955749512, -5.158400058746338, -5.158400058746338, -4.322500228881836, -3.622999906539917, -4.413000106811523, -4.750100135803223, -4.889800071716309, -4.91949987411499, -2.5155999660491943, -2.5283000469207764, -2.998199939727783, -3.3613998889923096, -3.545799970626831, -3.5620999336242676, -3.606100082397461, -3.718899965286255, -3.8408000469207764, -4.072800159454346, -4.202499866485596, -4.264699935913086, -4.271200180053711, -4.3180999755859375, -4.34250020980835, -4.392600059509277, -4.5493998527526855, -4.577700138092041, -4.67549991607666, -4.69350004196167, -4.702000141143799, -4.725500106811523, -4.885300159454346, -4.91949987411499, -5.015900135040283, -5.1168999671936035, -5.189199924468994, -5.189199924468994, -5.189199924468994, -5.189199924468994, -4.028500080108643, -4.791399955749512, -3.3489999771118164, -4.25, -3.7892000675201416, -4.924099922180176, -2.294100046157837, -2.710099935531616, -3.119999885559082, -3.1707000732421875, -3.2293999195098877, -3.2337000370025635, -3.3949999809265137, -3.484800100326538, -3.789400100708008, -3.862600088119507, -4.027699947357178, -4.154900074005127, -4.173099994659424, -4.186500072479248, -4.302000045776367, -4.400000095367432, -4.417799949645996, -4.454899787902832, -4.479700088500977, -4.686500072479248, -4.729599952697754, -4.74560022354126, -4.972300052642822, -5.0278000831604, -5.290999889373779, -5.290999889373779, -5.290999889373779, -5.360599994659424, -3.3819000720977783, -5.469099998474121, -4.797399997711182, -3.735100030899048, -3.9052000045776367, -5.205900192260742, -2.8691999912261963, -3.54259991645813, -3.6161000728607178, -3.6161999702453613, -3.640500068664551, -3.665600061416626, -3.714600086212158, -3.734800100326538, -3.852400064468384, -3.8613998889923096, -4.069399833679199, -4.194200038909912, -4.223400115966797, -4.339900016784668, -4.353799819946289, -4.399199962615967, -4.40939998626709, -4.418700218200684, -4.448299884796143, -4.455699920654297, -4.4791998863220215, -4.542799949645996, -4.607800006866455, -4.638500213623047, -4.6616997718811035, -4.668399810791016, -4.734399795532227, -4.8171000480651855, -4.858399868011475, -4.868599891662598, -3.1712000370025635, -4.526700019836426, -4.075099945068359, -4.5233001708984375, -2.7102999687194824, -2.7499001026153564, -3.376800060272217, -3.4876999855041504, -3.6672000885009766, -3.685499906539917, -3.7588000297546387, -3.7994000911712646, -3.876800060272217, -4.002399921417236, -4.041500091552734, -4.053800106048584, -4.193600177764893, -4.193600177764893, -4.193600177764893, -4.263999938964844, -4.3144001960754395, -4.445400238037109, -4.456699848175049, -4.458899974822998, -4.568299770355225, -4.595699787139893, -4.648200035095215, -4.672699928283691, -4.712299823760986, -4.76039981842041, -4.766200065612793, -4.77810001373291, -4.846499919891357, -4.870500087738037, -3.658900022506714, -4.076300144195557, -2.8970000743865967, -3.0445001125335693, -3.250999927520752, -3.4714999198913574, -3.47160005569458, -3.7567999362945557, -3.872999906539917, -3.916800022125244, -4.114500045776367, -4.116399765014648, -4.132999897003174, -4.2144999504089355, -4.254499912261963, -4.285600185394287, -4.327000141143799, -4.348199844360352, -4.424699783325195, -4.4481000900268555, -4.510000228881836, -4.656799793243408, -4.667399883270264, -4.71150016784668, -4.755099773406982, -4.860400199890137, -4.992000102996826, -5.010000228881836, -5.131100177764893, -5.131100177764893, -5.131100177764893, -5.131100177764893, -4.254499912261963, -3.6489999294281006, -4.123499870300293, -4.468599796295166, -4.226600170135498, -4.932400226593018, -2.3789000511169434, -3.026599884033203, -3.0996999740600586, -3.2147998809814453, -3.5787999629974365, -3.797800064086914, -3.822999954223633, -3.9263999462127686, -4.212399959564209, -4.2895002365112305, -4.44920015335083, -4.459499835968018, -4.479100227355957, -2.915800094604492, -4.6143999099731445, -4.6143999099731445, -4.7154998779296875, -4.769899845123291, -4.831600189208984, -4.865300178527832, -5.002900123596191, -5.026800155639648, -5.042399883270264, -5.115200042724609, -5.158299922943115, -5.160699844360352, -5.181600093841553, -3.2639999389648438, -5.23199987411499, -5.263299942016602, -3.483099937438965, -3.6993000507354736, -4.587200164794922, -4.88129997253418], \"loglift\": [30.0, 29.0, 28.0, 27.0, 26.0, 25.0, 24.0, 23.0, 22.0, 21.0, 20.0, 19.0, 18.0, 17.0, 16.0, 15.0, 14.0, 13.0, 12.0, 11.0, 10.0, 9.0, 8.0, 7.0, 6.0, 5.0, 4.0, 3.0, 2.0, 1.0, 2.5061, 2.5014, 2.4987, 2.4955, 2.4781, 2.472, 2.4591, 2.455, 2.4543, 2.4525, 2.4522, 2.452, 2.451, 2.451, 2.4495, 2.4442, 2.443, 2.4407, 2.4401, 2.4362, 2.4326, 2.4209, 2.418, 2.4149, 2.4101, 2.4073, 2.3962, 2.3872, 2.3794, 2.352, 1.8063, 1.8479, 1.9434, 1.2718, 2.552, 2.5435, 2.5417, 2.5348, 2.5288, 2.5287, 2.5269, 2.5253, 2.5193, 2.5067, 2.502, 2.5014, 2.4841, 2.483, 2.4729, 2.4576, 2.4528, 2.4512, 2.4445, 2.4423, 2.4421, 2.432, 2.4313, 2.4219, 2.4051, 2.3689, 2.3624, 2.3614, 2.3436, 2.3332, 2.2666, 1.7664, 2.0749, 1.6957, 0.9733, 1.3084, 0.8868, 2.6175, 2.586, 2.5836, 2.5816, 2.5807, 2.5784, 2.5779, 2.5719, 2.5665, 2.5369, 2.5303, 2.5215, 2.5046, 2.4993, 2.4955, 2.4735, 2.4711, 2.4551, 2.4375, 2.4369, 2.4297, 2.4112, 2.4081, 2.4076, 2.3955, 2.3875, 2.3727, 2.3548, 2.3522, 2.3386, 2.232, 1.7238, 1.222, 1.8407, 1.206, 1.3002, 0.9635, 2.6244, 2.6098, 2.6031, 2.6002, 2.5973, 2.5917, 2.5881, 2.5706, 2.5665, 2.566, 2.5618, 2.5569, 2.5462, 2.541, 2.5378, 2.5298, 2.5046, 2.5045, 2.4955, 2.438, 2.4331, 2.4306, 2.4284, 2.4242, 2.4229, 2.4038, 2.3846, 2.3828, 2.3562, 2.3319, 2.1716, 2.0423, 1.6448, 1.1139, 1.9803, 1.7527, 1.1995, 1.457, 2.6999, 2.6947, 2.692, 2.6918, 2.6912, 2.6869, 2.6851, 2.6848, 2.6755, 2.6716, 2.6603, 2.659, 2.6554, 2.6457, 2.6402, 2.6363, 2.6132, 2.613, 2.6054, 2.5994, 2.5993, 2.5948, 2.5869, 2.5798, 2.5756, 2.5714, 2.5679, 2.5575, 2.5522, 2.5448, 2.4346, 1.5493, 1.3175, 0.9163, 2.8883, 2.8748, 2.8626, 2.8614, 2.8573, 2.8519, 2.842, 2.8403, 2.8358, 2.8326, 2.8187, 2.8103, 2.8077, 2.8047, 2.8018, 2.7924, 2.7897, 2.7872, 2.7856, 2.7742, 2.7701, 2.7655, 2.7548, 2.737, 2.7309, 2.7294, 2.7278, 2.7245, 2.7236, 2.7128, 1.3109, 2.8995, 2.8867, 2.8799, 2.8797, 2.8713, 2.8679, 2.8558, 2.8513, 2.8458, 2.824, 2.8181, 2.8172, 2.8088, 2.7918, 2.7784, 2.7759, 2.7632, 2.7619, 2.7372, 2.7315, 2.7181, 2.7015, 2.6985, 2.6655, 2.6546, 2.6518, 2.6284, 2.624, 2.6041, 2.6041, 2.5944, 2.4153, 2.286, 1.7089, 1.4037, -0.4278, 3.0023, 2.9947, 2.984, 2.9704, 2.9668, 2.9663, 2.9476, 2.9475, 2.9306, 2.9129, 2.9052, 2.8954, 2.8952, 2.8855, 2.8712, 2.8618, 2.858, 2.8457, 2.8247, 2.8189, 2.8031, 2.8015, 2.7869, 2.7827, 2.7817, 2.7813, 2.7737, 2.767, 2.767, 2.7624, 2.7287, 2.6803, 2.5638, 2.6157, 2.3659, 1.9656, 2.0915, 3.0153, 3.0093, 3.0089, 3.0054, 3.0041, 2.9968, 2.9849, 2.9549, 2.9546, 2.954, 2.952, 2.9514, 2.9418, 2.9341, 2.9092, 2.8999, 2.8978, 2.8964, 2.8938, 2.892, 2.8916, 2.8759, 2.8738, 2.8674, 2.856, 2.8376, 2.8294, 2.8203, 2.8068, 2.7866, 2.7619, 2.5517, 2.2373, 1.056, 2.0156, 1.9341, 3.0519, 3.0423, 3.0197, 3.0188, 3.0129, 3.0027, 2.9784, 2.9724, 2.9661, 2.9647, 2.9289, 2.9251, 2.9233, 2.9229, 2.9102, 2.8969, 2.8965, 2.8963, 2.8856, 2.8805, 2.8667, 2.8637, 2.8618, 2.8582, 2.8438, 2.8373, 2.8209, 2.8091, 2.7995, 2.7995, 2.777, 2.7305, 1.685, 1.6647, 3.0727, 3.0527, 3.0426, 3.0294, 3.0276, 3.0229, 3.0211, 2.9993, 2.9913, 2.9856, 2.9688, 2.9472, 2.9401, 2.9259, 2.9217, 2.92, 2.9121, 2.9115, 2.9092, 2.9024, 2.8838, 2.871, 2.8579, 2.851, 2.8489, 2.8403, 2.8372, 2.8031, 2.7979, 2.7926, 2.6991, 2.4384, 2.4767, 1.5536, 2.3774, 3.1264, 3.0762, 3.0698, 3.0572, 3.0564, 3.0551, 3.0543, 3.0511, 3.0393, 3.0293, 3.0284, 3.0267, 3.0242, 3.0076, 2.996, 2.9809, 2.9726, 2.9621, 2.9589, 2.9589, 2.9325, 2.8942, 2.8925, 2.8871, 2.8865, 2.8789, 2.8427, 2.8427, 2.8427, 2.8333, 2.6668, 1.9009, 1.4761, 1.864, 3.2067, 3.205, 3.1961, 3.1601, 3.1571, 3.1535, 3.1521, 3.1493, 3.1457, 3.1193, 3.1178, 3.1015, 3.0911, 3.0794, 3.0738, 3.0499, 3.0478, 3.043, 3.0375, 3.0359, 3.0148, 2.9719, 2.969, 2.9677, 2.9652, 2.9639, 2.9448, 2.938, 2.9005, 2.8972, 2.8689, 1.7445, 3.213, 3.2104, 3.1975, 3.1926, 3.1771, 3.1379, 3.1268, 3.1264, 3.1241, 3.1179, 3.1005, 3.0991, 3.0988, 3.0877, 3.0822, 3.0783, 3.0777, 3.0709, 3.0709, 3.0547, 3.0519, 3.0385, 2.9997, 2.978, 2.9756, 2.9756, 2.9689, 2.9446, 2.9305, 2.9305, 2.8822, 2.4505, 2.4751, 2.4585, 1.7783, 1.6734, 3.222, 3.2217, 3.2064, 3.1889, 3.1775, 3.1763, 3.1669, 3.1647, 3.1545, 3.1315, 3.1165, 3.1086, 3.1078, 3.1016, 3.0982, 3.0911, 3.0668, 3.0621, 3.0448, 3.0415, 3.0399, 3.0354, 3.0029, 2.9954, 2.973, 2.9478, 2.9286, 2.9286, 2.9286, 2.9286, 2.9145, 2.7908, 1.7705, 1.6782, 0.9347, 2.5016, 3.2699, 3.2589, 3.2428, 3.2403, 3.2373, 3.2371, 3.2278, 3.222, 3.1984, 3.1917, 3.1748, 3.16, 3.1577, 3.156, 3.1406, 3.1263, 3.1236, 3.1178, 3.1138, 3.077, 3.0686, 3.0654, 3.0151, 3.0014, 2.9284, 2.9284, 2.9284, 2.9067, 2.9039, 2.8707, 2.336, 1.3704, 0.3853, 0.8181, 3.2572, 3.222, 3.2166, 3.2166, 3.2147, 3.2128, 3.2088, 3.2071, 3.1966, 3.1958, 3.1741, 3.1591, 3.1553, 3.1393, 3.1373, 3.1305, 3.129, 3.1275, 3.1229, 3.1217, 3.118, 3.1073, 3.0959, 3.0903, 3.0859, 3.0847, 3.0718, 3.0547, 3.0457, 3.0435, 2.8528, 2.7062, 1.7094, 2.4579, 3.3485, 3.3471, 3.3157, 3.3079, 3.2936, 3.292, 3.2853, 3.2814, 3.2735, 3.2596, 3.2549, 3.2534, 3.2352, 3.2352, 3.2352, 3.2251, 3.2175, 3.1963, 3.1943, 3.1939, 3.1741, 3.1688, 3.1584, 3.1534, 3.1451, 3.1347, 3.1334, 3.1308, 3.115, 3.1093, 2.6025, 0.6476, 3.3556, 3.3489, 3.3377, 3.3232, 3.3232, 3.2993, 3.2877, 3.283, 3.2593, 3.2591, 3.2569, 3.2457, 3.2399, 3.2353, 3.2289, 3.2256, 3.213, 3.209, 3.198, 3.1696, 3.1674, 3.1582, 3.1487, 3.1244, 3.0911, 3.0863, 3.0523, 3.0523, 3.0523, 3.0523, 2.9975, 1.4565, 1.8955, 1.8172, 0.4973, 2.6265, 3.4021, 3.378, 3.3742, 3.3677, 3.3419, 3.3216, 3.319, 3.3077, 3.2706, 3.2589, 3.2321, 3.2303, 3.2267, 3.2074, 3.2005, 3.2005, 3.179, 3.1667, 3.1521, 3.1438, 3.1078, 3.1012, 3.0969, 3.0757, 3.0627, 3.062, 3.0555, 3.0407, 3.0395, 3.0293, 2.9131, 2.814, 1.8297, 1.2023]}, \"token.table\": {\"Topic\": [20, 2, 5, 12, 9, 13, 8, 9, 20, 9, 7, 3, 10, 19, 2, 1, 14, 20, 6, 9, 11, 12, 18, 5, 11, 17, 4, 1, 11, 2, 4, 2, 14, 9, 1, 7, 18, 4, 14, 3, 1, 9, 8, 19, 9, 20, 8, 3, 14, 17, 19, 2, 7, 4, 15, 20, 12, 2, 11, 13, 12, 15, 19, 7, 8, 15, 17, 18, 20, 13, 3, 13, 14, 18, 1, 3, 6, 7, 19, 4, 18, 10, 18, 5, 3, 9, 20, 20, 18, 6, 19, 17, 20, 15, 11, 1, 12, 6, 6, 11, 2, 17, 16, 8, 9, 18, 12, 14, 19, 5, 8, 8, 3, 10, 20, 2, 18, 5, 15, 14, 7, 13, 4, 19, 20, 20, 13, 5, 15, 2, 1, 11, 1, 1, 1, 17, 19, 6, 18, 8, 18, 16, 3, 7, 9, 14, 9, 17, 12, 4, 8, 7, 8, 10, 11, 17, 15, 14, 10, 5, 4, 7, 6, 7, 12, 13, 6, 7, 15, 6, 10, 19, 3, 11, 6, 16, 16, 10, 16, 2, 12, 13, 5, 19, 19, 2, 10, 6, 17, 3, 7, 16, 3, 5, 20, 6, 8, 5, 2, 2, 18, 2, 4, 3, 9, 4, 14, 5, 17, 19, 2, 4, 15, 20, 12, 19, 18, 11, 10, 9, 16, 1, 7, 1, 15, 6, 7, 16, 4, 13, 4, 13, 20, 11, 15, 15, 11, 16, 18, 12, 18, 4, 2, 12, 4, 11, 19, 20, 8, 15, 19, 7, 13, 8, 13, 15, 3, 2, 5, 12, 11, 12, 5, 4, 7, 9, 1, 12, 19, 17, 4, 12, 16, 3, 6, 16, 15, 3, 4, 20, 3, 9, 1, 3, 14, 9, 16, 17, 19, 7, 20, 17, 20, 9, 2, 20, 4, 10, 8, 4, 16, 17, 4, 6, 2, 13, 14, 8, 17, 2, 1, 17, 8, 13, 8, 8, 8, 12, 3, 1, 13, 3, 4, 8, 9, 15, 18, 19, 2, 7, 2, 13, 6, 16, 1, 15, 8, 3, 7, 11, 16, 6, 14, 17, 13, 14, 2, 3, 6, 19, 15, 4, 8, 6, 15, 12, 10, 16, 20, 15, 11, 15, 17, 19, 19, 10, 17, 17, 15, 15, 8, 7, 19, 19, 11, 19, 13, 11, 5, 12, 9, 5, 12, 6, 16, 1, 5, 12, 5, 18, 11, 15, 2, 13, 19, 19, 2, 11, 1, 7, 8, 16, 12, 6, 3, 14, 1, 3, 14, 15, 8, 15, 13, 4, 20, 15, 15, 6, 14, 14, 17, 8, 12, 4, 17, 18, 16, 1, 1, 15, 14, 9, 19, 9, 10, 2, 9, 11, 2, 13, 12, 1, 10, 19, 8, 6, 5, 1, 6, 2, 4, 11, 9, 13, 14, 14, 4, 14, 7, 4, 19, 20, 5, 18, 5, 7, 1, 20, 17, 16, 11, 17, 8, 14, 6, 18, 15, 13, 16, 19, 18, 16, 1, 18, 9, 1, 4, 15, 17, 5, 14, 1, 1, 8, 9, 7, 8, 14, 17, 7, 11, 6, 11, 5, 16, 17, 10, 6, 15, 20, 11, 7, 7, 6, 3, 8, 12, 3, 16, 10, 20, 10, 7, 12, 13, 17, 5, 8, 20, 10, 9, 19, 4, 9, 4, 11, 2, 15, 11, 9, 18, 10, 16, 14, 2, 3, 8, 5, 4, 6, 13, 5, 7, 10, 13, 14, 14, 10, 13, 11, 6, 7, 2, 13, 16, 15, 20, 11, 1, 20, 17, 2, 16, 10, 16, 3, 5, 10, 11, 2, 17, 5, 16, 14, 1, 20, 10, 8, 3, 2, 7, 10, 14, 3, 6, 19, 11, 3, 19, 6, 6, 11, 10, 19, 10, 5, 7, 6, 3, 16, 17, 3, 2, 2, 20, 18, 13, 10, 16, 19, 14, 8, 4, 9, 13, 15, 9, 15, 1, 9, 20, 15, 10, 13, 8, 12, 11, 14, 7, 3, 13, 8, 5, 11, 4, 2, 9, 4, 17, 5, 18, 7, 14, 12, 18, 17, 12, 13, 11, 11, 9, 1, 4, 14, 2, 4, 5, 5, 12, 4, 18, 13, 14, 7, 20, 3, 5, 5, 10, 9, 13, 16, 5, 14, 9, 14, 2, 3, 4, 7, 8, 16, 19, 12, 10, 1, 4, 19, 17, 9, 14, 18, 20, 3, 3, 1, 17, 2, 5, 18, 18, 8, 4, 5, 9, 15, 14, 10, 19, 4, 12, 11, 4, 2, 6, 12, 10, 8, 7, 3, 16, 12, 13, 19, 9, 10, 8, 18, 8, 10, 1, 18, 2], \"Freq\": [0.8635142054430565, 0.9516129642715497, 0.860890846438493, 0.9075110000422154, 0.9279279220238497, 0.9405623043711171, 0.8943584679373735, 0.8393531048298821, 0.1259029657244823, 0.9228114581293307, 0.9509510409815891, 0.9427151870377467, 0.7175479272379348, 0.2050136934965528, 0.8443512132358449, 0.937784967591977, 0.8703673866174884, 0.7111159739082028, 0.8726807664968661, 0.9374082143403436, 0.8581240850509698, 0.9331210222899524, 0.7704827574139509, 0.8402990834853302, 0.8936029189767829, 0.9078866507894537, 0.742349374083292, 0.8838868022721244, 0.8904120807154627, 0.8450838065561765, 0.9672861812752868, 0.3878072552767692, 0.5170763403690256, 0.6921899844630703, 0.8776753207207472, 0.9181278370249865, 0.8055331103037698, 0.8793467013941193, 0.8214796293415833, 0.8978306841998591, 0.900301777573107, 0.9613861640978842, 0.3670046810705427, 0.550507021605814, 0.3442194427954134, 0.573699071325689, 0.7888160162437541, 0.9439929660053009, 0.7490868025666736, 0.7049290257136189, 0.8602216905267518, 0.9788240707719122, 0.8948922959356337, 0.9134473509952514, 0.8462960357603154, 0.8418321139357474, 0.8908237049343329, 0.25552425658513683, 0.5110485131702737, 0.12776212829256842, 0.7802557425021265, 0.14186468045493209, 0.9297778629414571, 0.7754590658786429, 0.8682940965338682, 0.8625714325581847, 0.9288712626270144, 0.9825346797449146, 0.9676592007553878, 0.9689109214822684, 0.969374960574605, 0.7965101681673198, 0.887480463882271, 0.8536510711923079, 0.10695196424253225, 0.855615713940258, 0.90780461184313, 0.8106516912236895, 0.8626197482039895, 0.7953740470379691, 0.9233257592309068, 0.7630496818949781, 0.9258771291723548, 0.7803218594173171, 0.7897666008979203, 0.7759442465321604, 0.8031004160469201, 0.711115836803327, 0.7811595832370174, 0.9624630108407377, 0.8879383900541544, 0.891109829693968, 0.8723865999622998, 0.9473375193570729, 0.7617396325605315, 0.8564498755142878, 0.9869128488931587, 0.9923773546010806, 0.9497774992559149, 0.9336759549435317, 0.9845870313862783, 0.9120935106255623, 0.8811254917254333, 0.8196243859853585, 0.8249311554666713, 0.8560165246240493, 0.8055554979895188, 0.9181419889359096, 0.9312391135566604, 0.9708126576346481, 0.023970682904559212, 0.9342821229173175, 0.9487654222157034, 0.8945384852169272, 0.7115638801095708, 0.8472888770897427, 0.7973058189695066, 0.3212151155907389, 0.48182267338610835, 0.8088214872135101, 0.8915892911028155, 0.6564076838759328, 0.3224834929904339, 0.12899339719617353, 0.5159735887846941, 0.7643289580617156, 0.9051724472211058, 0.8689907762134323, 0.9010653869019427, 0.9812978832846323, 0.9514347084034696, 0.7380591633262341, 0.956298283948326, 0.9664981348908638, 0.922848100904929, 0.8483378114740981, 0.9147450163073647, 0.8942274732155109, 0.8817801938901554, 0.8623644879065757, 0.8047937594969887, 0.9391913996794109, 0.17948107718072823, 0.6281837701325488, 0.08974053859036411, 0.08974053859036411, 0.8491084177486983, 0.9636536512107318, 0.9078274250502331, 0.8598586703534831, 0.7071965627642157, 0.9845158565694948, 0.5262125622570624, 0.24286733642633646, 0.22262839172414176, 0.8471763227219168, 0.8661437346582758, 0.8153813838857555, 0.717330498014896, 0.8219827923754369, 0.8876217559652323, 0.6230596817932804, 0.12956438614690102, 0.7773863168814061, 0.9190963504285061, 0.9221221884825244, 0.9011776736426087, 0.7409357587591867, 0.21169593107405335, 0.752011589612865, 0.9090570320581569, 0.058648840777945604, 0.8327255543494445, 0.9722997698947978, 0.9323070636140754, 0.9015916966011062, 0.8993576127733937, 0.945139409556534, 0.86259391558191, 0.8421990606549498, 0.9388283039143275, 0.8103669734933214, 0.9637914355301855, 0.6853126991425443, 0.9400637347223569, 0.9677558209220466, 0.8444443241726212, 0.932540421362064, 0.7774388298253915, 0.6648886350000158, 0.30474062437500726, 0.7598190382658939, 0.9447557932770113, 0.9539012339821453, 0.6556769656953632, 0.8988268132029682, 0.7789450442812786, 0.9173556111572475, 0.912092925957955, 0.962125790205542, 0.8233898759257491, 0.15376491860704017, 0.8200795659042142, 0.7872426451649437, 0.934064029696151, 0.7682658315266244, 0.20952704496180666, 0.7468359620584862, 0.21782715560039181, 0.03111816508577026, 0.20804133871501237, 0.5441081166392632, 0.22404451861616717, 0.8295793396651818, 0.8006340286181356, 0.8096970546929194, 0.8468563066366649, 0.879588768289931, 0.8931914147709155, 0.9423409212938552, 0.8881115466056156, 0.878799204700248, 0.975240296090812, 0.9806937919667621, 0.8510339475500118, 0.19698374903431223, 0.7879349961372489, 0.7452690535590225, 0.8972032333960973, 0.8069399394975665, 0.924190454543705, 0.8117371431160137, 0.7699842902571382, 0.19824204326860112, 0.6938471514401039, 0.9798508923487386, 0.731954748110014, 0.9734574913614492, 0.8931122071751139, 0.9024778679325991, 0.8773096415694557, 0.9536587526771252, 0.984191379187066, 0.950463982285377, 0.983387837536134, 0.7530507606001877, 0.8833129595697993, 0.9459273701820055, 0.7523667810623964, 0.6417914641925323, 0.7193086825321654, 0.961570379907705, 0.76549527440832, 0.7670111904764568, 0.8279353913550148, 0.8983740911489043, 0.9052975923504742, 0.9159206843952508, 0.8432174012157927, 0.8158233132866305, 0.6985064212445492, 0.2716413860395469, 0.8810715395699222, 0.885292187563868, 0.9432829820562324, 0.9239194991997481, 0.9561852671817721, 0.7877695085953416, 0.7942069003249095, 0.8988251558991115, 0.9807727048078622, 0.8006340274150926, 0.8167496718833659, 0.8174828639235533, 0.765221467452243, 0.8013112856488533, 0.9145458623183559, 0.9017075494623963, 0.8890252851760378, 0.9282822770406961, 0.8181070608213886, 0.8069796149815014, 0.9423611922842623, 0.4691020986903603, 0.4691020986903603, 0.8605851401753611, 0.9006863583809832, 0.8912608618168282, 0.7771795066266046, 0.9518826884911181, 0.7127271335256928, 0.8816364054825908, 0.6372982187960714, 0.8205692365259318, 0.9500262648395654, 0.7230722910829002, 0.9835670876504062, 0.010808429534619848, 0.9296919787789879, 0.9487157162792684, 0.7082997626999552, 0.8963394420654066, 0.9545420800358935, 0.03181806933452978, 0.2908264656538541, 0.20773318975275293, 0.45701301745605644, 0.7218224780136657, 0.12030374633561094, 0.907732292707753, 0.9153332822256017, 0.8876152113573561, 0.7679218519682299, 0.9513457734429133, 0.8072233633626894, 0.8072233666253765, 0.9650054748673887, 0.6149610878162399, 0.9560443184047458, 0.886537022736661, 0.7573258643688862, 0.4094448672423909, 0.21549729854862676, 0.010774864927431339, 0.1400732440566074, 0.09697378434688204, 0.06464918956458802, 0.05387432463715669, 0.9102377035403326, 0.6230596817932804, 0.992416194828032, 0.9008792355696023, 0.9426258175468499, 0.7104259025170939, 0.9895368373002362, 0.7981905202127982, 0.7642050804099619, 0.7512365879880607, 0.2191106714965177, 0.9346464611538292, 0.9432229370253961, 0.7686005551575193, 0.7888654303658812, 0.891106280221864, 0.9081662602197996, 0.8335530111863098, 0.8760366117460716, 0.7755821226967922, 0.20961678991805194, 0.6281550100558791, 0.7858332181759885, 0.5632766961560116, 0.337966017693607, 0.9618084534088145, 0.9369722184494576, 0.9397987701559866, 0.8217684803776331, 0.9271012535017016, 0.9301046795943931, 0.9340877896965042, 0.18782085299084386, 0.5634625589725316, 0.8864914304296186, 0.7511016764168539, 0.8519844633374446, 0.8769865239850938, 0.9370164119127035, 0.9059404788600062, 0.6086237592258905, 0.9693516372742594, 0.96428907896529, 0.8794692814746177, 0.6853127421780636, 0.6853127421780636, 0.9268297018953356, 0.8313086343804016, 0.9853763491433706, 0.9717150188615575, 0.9702382125040023, 0.9013766259612087, 0.755898068330108, 0.9846291909421642, 0.6149610878162399, 0.9299380988095381, 0.9354737843842069, 0.4875815534996706, 0.3026368263101404, 0.18494472718953023, 0.9368414088217789, 0.9782322115585483, 0.9525014848476324, 0.7651724613008082, 0.9608137408240072, 0.9560829839396899, 0.9442704122704246, 0.8427443016992531, 0.9895540570077046, 0.8794416099976902, 0.8871540122321695, 0.034927323316227145, 0.02095639398973629, 0.055883717305963435, 0.7891182588929492, 0.8944850160430774, 0.25754304675200423, 0.6438576168800106, 0.5680086792616007, 0.28400433963080035, 0.11360173585232015, 0.6417914641925323, 0.894360738855729, 0.9620230873785263, 0.8056311915108051, 0.17465925906077187, 0.7859666657734734, 0.9198703818305992, 0.9196738139050439, 0.8740194899841472, 0.8519220786069116, 0.9164100975986089, 0.9291207859330554, 0.9576864758217885, 0.9128894700802263, 0.9175735036899648, 0.8747735493330763, 0.8055331085832713, 0.8867685465065883, 0.9703519986226767, 0.9113722015478459, 0.6417915057593617, 0.8678092503967174, 0.8817556348336236, 0.9149711612539388, 0.7180616523189237, 0.9183329616810394, 0.1705877831907407, 0.5970572411675924, 0.1705877831907407, 0.8939767281596177, 0.8430978699283987, 0.6149610878162399, 0.9268060329043503, 0.698830785215342, 0.9164726848866394, 0.8468404859664422, 0.8473035314569684, 0.9172526843961498, 0.9359257863286226, 0.9455839080918211, 0.8180418767603653, 0.3810741531201987, 0.5080988708269316, 0.9432220054735446, 0.861495520005226, 0.9877566705912295, 0.8721714095667115, 0.9388642802801698, 0.9602794533408571, 0.9552448709674498, 0.8608154853352273, 0.8969819548927808, 0.7483878939731597, 0.9127621292554459, 0.8385909262474173, 0.8723108466361914, 0.9707841761358263, 0.9722416620425917, 0.8465883527244652, 0.7626215940509339, 0.8863058269370011, 0.8765450012880226, 0.7836553886500128, 0.677669672054963, 0.22588989068498766, 0.8558594460893509, 0.9080909847989147, 0.9399398267426207, 0.05137261420644897, 0.6678439846838367, 0.2054904568257959, 0.9409093195125089, 0.923345648896633, 0.9797357371021804, 0.9015255409269217, 0.8178550407173244, 0.9354340034996781, 0.8946965369403347, 0.8151726833889729, 0.9194261788854312, 0.9096640358590938, 0.9399177414885184, 0.8927217971949027, 0.2882232357034358, 0.6288506960802236, 0.052404224673351964, 0.8076078528397694, 0.895981906609346, 0.39736436591826485, 0.5298191545576865, 0.8175027408348049, 0.943530153428423, 0.9203033394967264, 0.9297926266394003, 0.8793445938933601, 0.6992827923516588, 0.8041014412211196, 0.9762907630341743, 0.8756949456425008, 0.6417914786888039, 0.8503739010746594, 0.9950838803569307, 0.9539085881683518, 0.9871093707028064, 0.8108903339162497, 0.9210972148358948, 0.8605478977983966, 0.6312389444777289, 0.9445615601033638, 0.7104259025170939, 0.761401206505071, 0.17570797073193947, 0.9318070567216689, 0.928550867150692, 0.9051755127599652, 0.06034503418399768, 0.8573274434152093, 0.8309067725134257, 0.06924223104278547, 0.9256220926100431, 0.9148974994191634, 0.7506588911836058, 0.6853127397113983, 0.17236946033099393, 0.7756625714894727, 0.39672078200460165, 0.5554090948064423, 0.9103733769938177, 0.795820384438838, 0.7126784776406321, 0.8558735436028232, 0.8181508046362086, 0.8633020552894216, 0.876483487471737, 0.6234783673705704, 0.9242851046347551, 0.9944372212620978, 0.912970993529181, 0.9096715937278231, 0.9818558512276324, 0.9638419277752134, 0.8000852219313104, 0.8994731498069073, 0.7528536702835651, 0.2672508134430543, 0.6681270336076358, 0.9059633534260805, 0.8154624904262577, 0.7707522069719173, 0.8888451791614759, 0.7797704336676585, 0.9062588474226666, 0.8000900478724323, 0.9140545998943905, 0.6507664285575251, 0.9329237828540039, 0.8752852269367727, 0.6483690269965401, 0.9007894537078499, 0.9120281256966332, 0.9612531448502116, 0.8698721112631626, 0.7166202961222081, 0.9301859630714933, 0.943109182420973, 0.972987782553924, 0.7325621416655902, 0.945695694707642, 0.993880904512168, 0.9283243079539704, 0.5149091455660588, 0.411927316452847, 0.4796503774375153, 0.3597377830781365, 0.897308890381738, 0.26176905888941215, 0.6805995531124717, 0.8217684803776331, 0.8696351805699496, 0.9521843604926801, 0.45827746500777905, 0.5346570425090755, 0.8730723130794825, 0.8688808031876434, 0.8219348466036595, 0.9248566121389057, 0.619894513284739, 0.8521769834019594, 0.7104014836612349, 0.9725466041925923, 0.926103580639244, 0.9546505796500542, 0.770452541790335, 0.795578777341235, 0.7254346179773494, 0.9781805830886913, 0.9363904433341285, 0.8706436192527155, 0.8052686288523254, 0.2372441049372396, 0.0790813683124132, 0.6326509464993056, 0.8933230975119055, 0.8495856416402151, 0.9749112883295604, 0.8366289714893325, 0.8556229980275227, 0.784381732572514, 0.8812642123955109, 0.9315548732668336, 0.9737148397616849, 0.9061883142655551, 0.8860228635864013, 0.8938921802819474, 0.8918277784583951, 0.8247420777135228, 0.8814236975723387, 0.9697708909969875, 0.9547843332559195, 0.9547666379430303, 0.9570482593221082, 0.6904865156242781, 0.7773024552523696, 0.8409299246274695, 0.7886633266297226, 0.6653230793200624, 0.29569914636447214, 0.9003712208379356, 0.9327788140905457, 0.8860498495247108, 0.9664265001347269, 0.9788239033567246, 0.9667021041032595, 0.9611175425642463, 0.9488943362899676, 0.9478884574415721, 0.614373368284414, 0.34131853793578554, 0.7913998319603845, 0.8877057044814691, 0.8008352447796505, 0.7052537610065254, 0.7700174606971804, 0.8494121062790765, 0.9383451933546474, 0.7191270306576039, 0.7526994780552579, 0.9456441278595193, 0.8924899699593887, 0.8625948448504752, 0.8879366221374765, 0.911577224441005, 0.9404320343263834, 0.9148867308352644, 0.9734389093710254, 0.1796566950142098, 0.6287984325497343, 0.1497139125118415, 0.9503653331388707, 0.8986532334083077, 0.8001305397172604, 0.8055331095271284, 0.8794211650156833, 0.7998389245799371, 0.9712076527303158, 0.8501386545918408, 0.8289553634651506, 0.9495097107688794, 0.9657383580084739, 0.9293897072554601, 0.9412749215014833, 0.7997929209104052, 0.8450167917540788, 0.8406718749683902, 0.9077766380086212, 0.8116906407572406, 0.6234783550256137, 0.9368386351809876, 0.252493176257209, 0.06312329406430225, 0.047342470548226684, 0.3471781173536624, 0.14202741164468005, 0.14202741164468005, 0.8036967429845392, 0.8558908138502072, 0.5114749783422435, 0.23606537461949703, 0.23606537461949703, 0.888863608008203, 0.961254885748972, 0.5988553563644602, 0.806285776862501, 0.9078541130056289, 0.8883138776986559, 0.9703251017858069, 0.9891617965392012, 0.74772031753375, 0.4011087194346916, 0.1002771798586729, 0.45124730936402807, 0.7739979642714592, 0.9417776187136345, 0.0718597612826829, 0.25150916448939015, 0.4311585676960974, 0.2155792838480487, 0.9823685105261695, 0.9103493959546849, 0.9399624485917766, 0.3652838791902668, 0.626200935754743, 0.9645145150360118, 0.8718955317442063, 0.7516160888747779, 0.18790402221869448, 0.7844046369961513, 0.7909495846088458, 0.7115373100790785, 0.8278936162834692, 0.899841190373998, 0.7104259025170939, 0.8916082543343636, 0.27000837888370016, 0.6750209472092503, 0.8470330876297215, 0.9074918322440153, 0.9652817789735884, 0.7420179549203915, 0.8828160174371215, 0.9092704168422394, 0.9201265291103254, 0.9100885770635734, 0.8434250933289055], \"Term\": [\"aar\", \"ability\", \"aca\", \"acceleration\", \"access\", \"account\", \"accounting\", \"acquisition\", \"acquisition\", \"action\", \"activity\", \"acuity\", \"acute\", \"acute\", \"addiction\", \"addition\", \"address\", \"adequacy\", \"adjustment\", \"administration\", \"adoption\", \"advantage\", \"age\", \"agency\", \"air\", \"alan\", \"algorithm\", \"allocation\", \"amazon\", \"america\", \"amount\", \"andrew\", \"andrew\", \"anniversary\", \"announcement\", \"answer\", \"aoci\", \"apologize\", \"appetite\", \"appreciate\", \"approach\", \"approval\", \"april\", \"april\", \"area\", \"area\", \"arm\", \"ask\", \"aspect\", \"asr\", \"assessment\", \"asset\", \"assume\", \"attrition\", \"availability\", \"back\", \"backdrop\", \"baker\", \"baker\", \"baker\", \"balance\", \"balance\", \"balance_sheet\", \"ballpark\", \"base\", \"baseline\", \"baylor\", \"bed\", \"behavioral\", \"benefit\", \"benefit_ratio\", \"bid\", \"bigger_picture\", \"bill\", \"bit\", \"bit\", \"block\", \"blueline\", \"board\", \"bogey\", \"bond\", \"bonus\", \"book\", \"bottom\", \"branch\", \"brexit\", \"bucket\", \"buffer\", \"building\", \"buyback\", \"cadence\", \"calendar\", \"california\", \"call\", \"cambian\", \"canada\", \"capex\", \"capital\", \"capital_deployment\", \"case\", \"cash\", \"cash_flow\", \"category\", \"caution\", \"census\", \"center\", \"chain\", \"challenge\", \"challenging\", \"change\", \"change\", \"charge\", \"claim\", \"clarification\", \"clear\", \"client\", \"closure\", \"cms\", \"cms\", \"cold_starts\", \"colonial\", \"comfort\", \"commentary\", \"commentary\", \"commentary\", \"commercial\", \"comp\", \"compare\", \"comparison\", \"competition\", \"competitor\", \"component\", \"concern\", \"condition\", \"confidence\", \"congratulation\", \"consensus\", \"consideration\", \"consolidation\", \"construction\", \"consumer\", \"context\", \"contract\", \"contract\", \"contract\", \"contract\", \"contracting\", \"contribution\", \"control\", \"conversation\", \"conversion\", \"core\", \"cost\", \"cost\", \"cost\", \"count\", \"course\", \"court\", \"credibility\", \"credit\", \"currency\", \"cushion\", \"customer\", \"customer\", \"cut\", \"cycle\", \"date\", \"datum\", \"datum\", \"david\", \"day\", \"day\", \"de\", \"deal\", \"debt\", \"decade\", \"decision\", \"decline\", \"degree\", \"delivery\", \"demand\", \"department\", \"detail\", \"deterioration\", \"development\", \"difference\", \"digit\", \"direction\", \"dirt\", \"disability\", \"disability\", \"discipline\", \"discount\", \"discussion\", \"dish\", \"dividend\", \"doj\", \"dollar\", \"domestic_package\", \"drag\", \"drill\", \"driver\", \"driver\", \"driving\", \"drug\", \"dynamic\", \"dynamic\", \"earning\", \"earning\", \"earning\", \"ebitda\", \"ebitda\", \"ebitda\", \"economy\", \"ed\", \"educator\", \"effect\", \"efficiency\", \"effort\", \"employer\", \"employment\", \"energy\", \"environment\", \"equipment\", \"estimate\", \"et_cetera\", \"et_cetera\", \"etcetera\", \"ex\", \"example\", \"exchange\", \"exclusion\", \"exit\", \"expansion\", \"expansion\", \"expectation\", \"expecting\", \"expense\", \"experience\", \"export\", \"exposure\", \"extent\", \"facility\", \"fact\", \"factor\", \"fair\", \"fair_enough\", \"fairwind\", \"fall\", \"fasb\", \"february\", \"fee\", \"feel\", \"field\", \"figure\", \"filing\", \"first\", \"five_year\", \"five_years\", \"flavor\", \"fleet\", \"fleet\", \"flexibility\", \"flow\", \"flu\", \"focus\", \"folk\", \"foot\", \"forecast\", \"framework\", \"free_cash\", \"freestanding\", \"freight\", \"frequency\", \"front\", \"fuel\", \"fund\", \"funding\", \"future\", \"gaap\", \"gain\", \"gap\", \"gas\", \"gear\", \"gear\", \"gen_rent\", \"general\", \"generate\", \"geography\", \"get\", \"give_u\", \"goal\", \"good\", \"gotcha\", \"great\", \"grow\", \"growth\", \"growth\", \"guide\", \"half\", \"hca\", \"head\", \"headwind\", \"headwind\", \"health\", \"health\", \"health\", \"healthcare\", \"healthcare\", \"hearing\", \"help\", \"helpful\", \"henderson\", \"hi_everybody\", \"hip\", \"hop\", \"hospital\", \"humphrey\", \"hurricane\", \"idea\", \"imd\", \"impact\", \"impact\", \"impact\", \"impact\", \"impact\", \"impact\", \"impact\", \"implication\", \"impression\", \"improvement\", \"incidence\", \"income\", \"incorporate\", \"increase\", \"incremental\", \"individual\", \"industry\", \"industry\", \"inflation\", \"initiative\", \"injection\", \"inpatient\", \"insight\", \"insurance\", \"insurer\", \"integration\", \"interest\", \"interest\", \"interested\", \"interplay\", \"investigation\", \"investigation\", \"investment\", \"investment_income\", \"investor\", \"ipf\", \"item\", \"jack\", \"january\", \"jess\", \"jess\", \"jim\", \"job\", \"john\", \"jump\", \"jv\", \"jvs\", \"knee\", \"know\", \"labor\", \"landscape\", \"lapsation\", \"lapse\", \"leadership\", \"leap\", \"length\", \"leverage\", \"life\", \"light\", \"likelihood\", \"look\", \"loser\", \"loss\", \"loss_ratio\", \"lot\", \"lot\", \"lot\", \"love\", \"ltc\", \"magnitude\", \"majority\", \"make_sure\", \"managed_medicaid\", \"management\", \"march\", \"margin\", \"mark\", \"market\", \"market\", \"market\", \"market\", \"marketplace\", \"material\", \"math\", \"math\", \"matt\", \"matt\", \"matt\", \"maturity\", \"may\", \"mean\", \"measure\", \"medicaid\", \"medicaid\", \"medicare\", \"medicare_advantage\", \"metric\", \"michael\", \"midpoint\", \"mike\", \"mind\", \"model\", \"momentum\", \"money\", \"morbidity\", \"morning\", \"move\", \"movement\", \"naic\", \"need\", \"neff\", \"negotiation\", \"nes\", \"net\", \"network\", \"network\", \"network\", \"new\", \"noise\", \"nonwinner\", \"normal_seasonality\", \"november\", \"novo\", \"nurse\", \"observation\", \"offset\", \"oil\", \"one\", \"opening\", \"operating\", \"operating\", \"operation\", \"operator\", \"opportunity\", \"optumcare\", \"order\", \"outlook\", \"outpatient\", \"overhang\", \"pace\", \"page\", \"party\", \"pass\", \"past\", \"patient\", \"payer\", \"payment\", \"peak_season\", \"peer\", \"penalty\", \"pension\", \"people\", \"people\", \"per_adjusted\", \"percent\", \"percentage\", \"performance\", \"performance\", \"performance\", \"period\", \"persistency\", \"perspective\", \"pg\", \"ph\", \"physician\", \"pick\", \"pickup\", \"picture\", \"piece\", \"pipeline\", \"place\", \"plan\", \"plan\", \"plan\", \"planning\", \"player\", \"poland\", \"poland\", \"policy\", \"population\", \"portfolio\", \"position\", \"possibility\", \"post\", \"power\", \"premium\", \"prepared_remarks\", \"prepay\", \"prepayment\", \"pressure\", \"price\", \"pricing\", \"priority\", \"pro_forma\", \"problem\", \"procedure\", \"process\", \"processing\", \"product\", \"product\", \"productivity\", \"profile\", \"profit\", \"profit\", \"profitability\", \"program\", \"program\", \"progress\", \"project\", \"proposal\", \"provide\", \"provider\", \"provider\", \"psych\", \"psych\", \"puerto_rico\", \"pull\", \"purchase\", \"push\", \"put\", \"quantify\", \"quick\", \"ramirez\", \"ramp\", \"rate\", \"rates\", \"rating\", \"ratio\", \"rbc\", \"readmission\", \"reason\", \"rebate\", \"recovery\", \"recovery\", \"recruiting\", \"reduce\", \"reduction\", \"referral\", \"reflection\", \"reform\", \"regime\", \"region\", \"remind\", \"renewal\", \"replacement\", \"repo\", \"repurchase\", \"request\", \"reserve\", \"resolution\", \"respect\", \"response\", \"rest\", \"result\", \"retention\", \"return\", \"revenue\", \"review\", \"richard\", \"richard\", \"rick\", \"rick\", \"right\", \"risk\", \"risk\", \"rtc\", \"rule\", \"run\", \"sale\", \"sale\", \"saving\", \"saw\", \"say\", \"scale\", \"scheduling\", \"scott\", \"season\", \"seasonality\", \"second_half\", \"sector\", \"seeing\", \"selling_season\", \"september\", \"service\", \"settlement\", \"severity\", \"sg\", \"share\", \"share\", \"share\", \"share_repurchase\", \"shareholder\", \"shift\", \"shifting\", \"shortage\", \"sign\", \"single_digit\", \"site\", \"situation\", \"size\", \"slide\", \"slowdown\", \"softness\", \"solution\", \"sorry\", \"sound\", \"source\", \"space\", \"specialty\", \"specific\", \"spending\", \"stabilization\", \"staff\", \"staffing\", \"staffing\", \"standpoint\", \"start\", \"stat\", \"state\", \"stay\", \"step\", \"stock\", \"store\", \"store_revenue\", \"strategy\", \"strategy\", \"street\", \"strength\", \"structure\", \"stuff\", \"subsidy\", \"success\", \"supply\", \"support\", \"surcharge\", \"surgery\", \"surprise\", \"sustain\", \"sustainability\", \"synergy\", \"system\", \"table\", \"tailwind\", \"target\", \"target\", \"target\", \"tax\", \"technology\", \"teen\", \"termination\", \"territory\", \"testing\", \"thinking\", \"third\", \"tim\", \"timing\", \"today\", \"top\", \"topic\", \"total_control\", \"tracking\", \"trajectory\", \"transformation\", \"transparency\", \"treasury\", \"treatment\", \"trend\", \"trend\", \"trend\", \"trend\", \"trend\", \"trend\", \"trending\", \"turn\", \"type\", \"type\", \"type\", \"uhs\", \"uk\", \"uncertainty\", \"understand\", \"unum\", \"uri\", \"us\", \"utilization\", \"valuation\", \"value\", \"value\", \"value\", \"variance\", \"vegas\", \"view\", \"view\", \"view\", \"view\", \"visibility\", \"vision\", \"volatility\", \"volume\", \"volume\", \"wage\", \"walk\", \"want\", \"want\", \"washington\", \"weather\", \"week\", \"weight\", \"well\", \"whatnot\", \"winner\", \"wonder\", \"wonder\", \"wondering\", \"word\", \"work\", \"world\", \"wrap\", \"xl\", \"yesterday\", \"yield\", \"york\"]}, \"R\": 30, \"lambda.step\": 0.01, \"plot.opts\": {\"xlab\": \"PC1\", \"ylab\": \"PC2\"}, \"topic.order\": [5, 10, 4, 12, 2, 16, 7, 3, 14, 19, 11, 18, 20, 8, 9, 17, 13, 6, 1, 15]};\n",
       "\n",
       "function LDAvis_load_lib(url, callback){\n",
       "  var s = document.createElement('script');\n",
       "  s.src = url;\n",
       "  s.async = true;\n",
       "  s.onreadystatechange = s.onload = callback;\n",
       "  s.onerror = function(){console.warn(\"failed to load library \" + url);};\n",
       "  document.getElementsByTagName(\"head\")[0].appendChild(s);\n",
       "}\n",
       "\n",
       "if(typeof(LDAvis) !== \"undefined\"){\n",
       "   // already loaded: just create the visualization\n",
       "   !function(LDAvis){\n",
       "       new LDAvis(\"#\" + \"ldavis_el561396425321270327546208181\", ldavis_el561396425321270327546208181_data);\n",
       "   }(LDAvis);\n",
       "}else if(typeof define === \"function\" && define.amd){\n",
       "   // require.js is available: use it to load d3/LDAvis\n",
       "   require.config({paths: {d3: \"https://cdnjs.cloudflare.com/ajax/libs/d3/3.5.5/d3.min\"}});\n",
       "   require([\"d3\"], function(d3){\n",
       "      window.d3 = d3;\n",
       "      LDAvis_load_lib(\"https://cdn.rawgit.com/bmabey/pyLDAvis/files/ldavis.v1.0.0.js\", function(){\n",
       "        new LDAvis(\"#\" + \"ldavis_el561396425321270327546208181\", ldavis_el561396425321270327546208181_data);\n",
       "      });\n",
       "    });\n",
       "}else{\n",
       "    // require.js not available: dynamically load d3 & LDAvis\n",
       "    LDAvis_load_lib(\"https://cdnjs.cloudflare.com/ajax/libs/d3/3.5.5/d3.min.js\", function(){\n",
       "         LDAvis_load_lib(\"https://cdn.rawgit.com/bmabey/pyLDAvis/files/ldavis.v1.0.0.js\", function(){\n",
       "                 new LDAvis(\"#\" + \"ldavis_el561396425321270327546208181\", ldavis_el561396425321270327546208181_data);\n",
       "            })\n",
       "         });\n",
       "}\n",
       "</script>"
      ],
      "text/plain": [
       "PreparedData(topic_coordinates=              x         y  topics  cluster      Freq\n",
       "topic                                               \n",
       "4      0.083314 -0.197599       1        1  8.053663\n",
       "9     -0.074611  0.171769       2        1  7.739448\n",
       "3     -0.298678 -0.150330       3        1  7.266467\n",
       "11    -0.123789  0.200473       4        1  7.135271\n",
       "1      0.120660  0.021660       5        1  6.546819\n",
       "15    -0.028068 -0.025676       6        1  5.488628\n",
       "6     -0.134943 -0.077749       7        1  5.440268\n",
       "2      0.044182 -0.100242       8        1  4.847584\n",
       "13    -0.040933  0.050439       9        1  4.750198\n",
       "18     0.095558  0.008833      10        1  4.668245\n",
       "10     0.094028  0.037308      11        1  4.578208\n",
       "17     0.075266  0.058225      12        1  4.307000\n",
       "19     0.082020  0.014505      13        1  3.969776\n",
       "7      0.023803  0.000067      14        1  3.924235\n",
       "8     -0.045806  0.104076      15        1  3.886850\n",
       "16     0.031609 -0.139764      16        1  3.719831\n",
       "12     0.061879 -0.007944      17        1  3.705875\n",
       "5     -0.018974  0.033199      18        1  3.389904\n",
       "0     -0.005737 -0.035676      19        1  3.340455\n",
       "14     0.059219  0.034427      20        1  3.241274, topic_info=            Term        Freq       Total Category  logprob  loglift\n",
       "59          rate  193.000000  193.000000  Default  30.0000  30.0000\n",
       "73        growth  185.000000  185.000000  Default  29.0000  29.0000\n",
       "81        margin  123.000000  123.000000  Default  28.0000  28.0000\n",
       "82        market  143.000000  143.000000  Default  27.0000  27.0000\n",
       "58      pressure   76.000000   76.000000  Default  26.0000  26.0000\n",
       "..           ...         ...         ...      ...      ...      ...\n",
       "421   commercial    1.754170    2.616674  Topic20  -5.2633   3.0293\n",
       "255         area   10.403064   17.430741  Topic20  -3.4831   2.9131\n",
       "279   commentary    8.380877   15.504670  Topic20  -3.6993   2.8140\n",
       "672      product    3.448846   17.073784  Topic20  -4.5872   1.8297\n",
       "238  acquisition    2.570054   23.827874  Topic20  -4.8813   1.2023\n",
       "\n",
       "[727 rows x 6 columns], token_table=      Topic      Freq          Term\n",
       "term                               \n",
       "1748     20  0.863514           aar\n",
       "317       2  0.951613       ability\n",
       "840       5  0.860891           aca\n",
       "687      12  0.907511  acceleration\n",
       "424       9  0.927928        access\n",
       "...     ...       ...           ...\n",
       "1614      8  0.882816          wrap\n",
       "1340     10  0.909270            xl\n",
       "947       1  0.920127     yesterday\n",
       "713      18  0.910089         yield\n",
       "1729      2  0.843425          york\n",
       "\n",
       "[743 rows x 3 columns], R=30, lambda_step=0.01, plot_opts={'xlab': 'PC1', 'ylab': 'PC2'}, topic_order=[5, 10, 4, 12, 2, 16, 7, 3, 14, 19, 11, 18, 20, 8, 9, 17, 13, 6, 1, 15])"
      ]
     },
     "execution_count": 13,
     "metadata": {
      "tags": []
     },
     "output_type": "execute_result"
    }
   ],
   "source": [
    "# Visualize the topics\n",
    "pyLDAvis.enable_notebook()\n",
    "vis = pyLDAvis.gensim.prepare(lda_model, corpus, id2word)\n",
    "vis"
   ]
  },
  {
   "cell_type": "code",
   "execution_count": null,
   "metadata": {
    "id": "GnDQQobQvxNr"
   },
   "outputs": [],
   "source": [
    "tweet_content = []\n",
    "json_new = json_content_eng[700:800]\n",
    "for dic in json_new:\n",
    "    text = dic['full_text']\n",
    "    tweet_content.append(text)\n",
    "with open(\"drive/My Drive/tweet_content.json\", \"w\") as write_file:\n",
    "    json.dump(tweet_content, write_file, indent=4)"
   ]
  }
 ],
 "metadata": {
  "colab": {
   "collapsed_sections": [],
   "name": "Topic_Modeling.ipynb",
   "provenance": []
  },
  "kernelspec": {
   "display_name": "Python 3",
   "language": "python",
   "name": "python3"
  },
  "language_info": {
   "codemirror_mode": {
    "name": "ipython",
    "version": 3
   },
   "file_extension": ".py",
   "mimetype": "text/x-python",
   "name": "python",
   "nbconvert_exporter": "python",
   "pygments_lexer": "ipython3",
   "version": "3.7.0"
  }
 },
 "nbformat": 4,
 "nbformat_minor": 1
}
